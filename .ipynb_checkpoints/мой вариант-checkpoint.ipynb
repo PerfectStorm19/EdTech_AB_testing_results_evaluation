{
 "cells": [
  {
   "cell_type": "markdown",
   "metadata": {},
   "source": [
    "# Оценка итогов A/B–тестирования для анализа внедрения новой механики оплаты услуг на сайте."
   ]
  },
  {
   "cell_type": "markdown",
   "metadata": {},
   "source": [
    "Одной из основных задач аналитика в команде является корректное проведение экспериментов, для этого мы применяем метод A/B–тестирования. \n",
    "\n",
    "В ходе тестирования одной гипотезы целевой группе была предложена новая механика оплаты услуг на сайте, у контрольной группы оставалась базовая механика.\n",
    "\n",
    "**Цель исследования**: проанализировать итоги эксперимента и сделать вывод, стоит ли запускать новую механику оплаты на всех пользователей. "
   ]
  },
  {
   "cell_type": "code",
   "execution_count": 1,
   "metadata": {},
   "outputs": [],
   "source": [
    "import pandas as pd\n",
    "import numpy as np\n",
    "import matplotlib.pyplot as plt\n",
    "import seaborn as sns\n",
    "\n",
    "import statistics\n",
    "from scipy.stats import chi2_contingency, chi2, mannwhitneyu, ttest_ind, norm\n",
    "from statsmodels.regression.linear_model import OLS\n",
    "\n",
    "from tqdm.auto import tqdm\n",
    "import requests\n",
    "from urllib.parse import urlencode\n",
    "import re\n",
    "\n",
    "import pandahouse as ph\n",
    "\n",
    "import warnings\n",
    "warnings.filterwarnings('ignore')"
   ]
  },
  {
   "cell_type": "markdown",
   "metadata": {},
   "source": [
    "## 1. Получение данных по внешним ссылкам, загрузка датасетов и первичный анализ."
   ]
  },
  {
   "cell_type": "code",
   "execution_count": 2,
   "metadata": {},
   "outputs": [],
   "source": [
    "# ссылки на данные с указанием разделителя csv-файла\n",
    "\n",
    "links_dic = {\n",
    "    \n",
    "    'groups': ['https://disk.yandex.ru/d/58Us0DWOzuWAjg', ';'],\n",
    "    'groups_add': ['https://disk.yandex.ru/d/3aARY-P9pfaksg', ','],\n",
    "    'active_studs': ['https://disk.yandex.ru/d/prbgU-rZpiXVYg', ','],\n",
    "    'checks': ['https://disk.yandex.ru/d/84hTmELphW2sqQ', ';']\n",
    "}"
   ]
  },
  {
   "cell_type": "code",
   "execution_count": 3,
   "metadata": {},
   "outputs": [],
   "source": [
    "def get_yandex_download_url(public_key):\n",
    "    '''функция принимает публичный ключ и возвращает загрузочную ссылку'''\n",
    "    \n",
    "    # получаем прямую ссылку на файлы\n",
    "    base_url = 'https://cloud-api.yandex.net/v1/disk/public/resources/download?'\n",
    "    \n",
    "    for csv_filename, csv_link in links_dic.items():\n",
    "        final_url = base_url + urlencode(dict(public_key=csv_link[0]))\n",
    "    \n",
    "    response = requests.get(final_url)\n",
    "    download_url = response.json()['href']\n",
    "    globals()[csv_filename] = pd.read_csv(download_url, sep=csv_link[1])"
   ]
  },
  {
   "cell_type": "code",
   "execution_count": 4,
   "metadata": {},
   "outputs": [],
   "source": [
    "groups = pd.read_csv('data/groups.csv', sep=';')\n",
    "groups_add = pd.read_csv('data/groups_add.csv')\n",
    "\n",
    "active_studs = pd.read_csv('data/active_studs.csv')\n",
    "checks = pd.read_csv('data/checks.csv', sep=';')"
   ]
  },
  {
   "cell_type": "code",
   "execution_count": 5,
   "metadata": {},
   "outputs": [
    {
     "data": {
      "text/html": [
       "<div>\n",
       "<style scoped>\n",
       "    .dataframe tbody tr th:only-of-type {\n",
       "        vertical-align: middle;\n",
       "    }\n",
       "\n",
       "    .dataframe tbody tr th {\n",
       "        vertical-align: top;\n",
       "    }\n",
       "\n",
       "    .dataframe thead th {\n",
       "        text-align: right;\n",
       "    }\n",
       "</style>\n",
       "<table border=\"1\" class=\"dataframe\">\n",
       "  <thead>\n",
       "    <tr style=\"text-align: right;\">\n",
       "      <th></th>\n",
       "      <th>id</th>\n",
       "      <th>grp</th>\n",
       "    </tr>\n",
       "  </thead>\n",
       "  <tbody>\n",
       "    <tr>\n",
       "      <th>0</th>\n",
       "      <td>1489</td>\n",
       "      <td>B</td>\n",
       "    </tr>\n",
       "    <tr>\n",
       "      <th>1</th>\n",
       "      <td>1627</td>\n",
       "      <td>A</td>\n",
       "    </tr>\n",
       "    <tr>\n",
       "      <th>2</th>\n",
       "      <td>1768</td>\n",
       "      <td>B</td>\n",
       "    </tr>\n",
       "  </tbody>\n",
       "</table>\n",
       "</div>"
      ],
      "text/plain": [
       "     id grp\n",
       "0  1489   B\n",
       "1  1627   A\n",
       "2  1768   B"
      ]
     },
     "execution_count": 5,
     "metadata": {},
     "output_type": "execute_result"
    }
   ],
   "source": [
    "groups.head(3)"
   ]
  },
  {
   "cell_type": "code",
   "execution_count": 6,
   "metadata": {},
   "outputs": [
    {
     "data": {
      "text/html": [
       "<div>\n",
       "<style scoped>\n",
       "    .dataframe tbody tr th:only-of-type {\n",
       "        vertical-align: middle;\n",
       "    }\n",
       "\n",
       "    .dataframe tbody tr th {\n",
       "        vertical-align: top;\n",
       "    }\n",
       "\n",
       "    .dataframe thead th {\n",
       "        text-align: right;\n",
       "    }\n",
       "</style>\n",
       "<table border=\"1\" class=\"dataframe\">\n",
       "  <thead>\n",
       "    <tr style=\"text-align: right;\">\n",
       "      <th></th>\n",
       "      <th>id</th>\n",
       "      <th>grp</th>\n",
       "    </tr>\n",
       "  </thead>\n",
       "  <tbody>\n",
       "    <tr>\n",
       "      <th>0</th>\n",
       "      <td>5694584</td>\n",
       "      <td>B</td>\n",
       "    </tr>\n",
       "    <tr>\n",
       "      <th>1</th>\n",
       "      <td>5694830</td>\n",
       "      <td>B</td>\n",
       "    </tr>\n",
       "    <tr>\n",
       "      <th>2</th>\n",
       "      <td>5695057</td>\n",
       "      <td>B</td>\n",
       "    </tr>\n",
       "  </tbody>\n",
       "</table>\n",
       "</div>"
      ],
      "text/plain": [
       "        id grp\n",
       "0  5694584   B\n",
       "1  5694830   B\n",
       "2  5695057   B"
      ]
     },
     "execution_count": 6,
     "metadata": {},
     "output_type": "execute_result"
    }
   ],
   "source": [
    "groups_add.head(3)"
   ]
  },
  {
   "cell_type": "code",
   "execution_count": 7,
   "metadata": {
    "scrolled": false
   },
   "outputs": [
    {
     "data": {
      "text/html": [
       "<div>\n",
       "<style scoped>\n",
       "    .dataframe tbody tr th:only-of-type {\n",
       "        vertical-align: middle;\n",
       "    }\n",
       "\n",
       "    .dataframe tbody tr th {\n",
       "        vertical-align: top;\n",
       "    }\n",
       "\n",
       "    .dataframe thead th {\n",
       "        text-align: right;\n",
       "    }\n",
       "</style>\n",
       "<table border=\"1\" class=\"dataframe\">\n",
       "  <thead>\n",
       "    <tr style=\"text-align: right;\">\n",
       "      <th></th>\n",
       "      <th>student_id</th>\n",
       "    </tr>\n",
       "  </thead>\n",
       "  <tbody>\n",
       "    <tr>\n",
       "      <th>0</th>\n",
       "      <td>581585</td>\n",
       "    </tr>\n",
       "    <tr>\n",
       "      <th>1</th>\n",
       "      <td>5723133</td>\n",
       "    </tr>\n",
       "    <tr>\n",
       "      <th>2</th>\n",
       "      <td>3276743</td>\n",
       "    </tr>\n",
       "  </tbody>\n",
       "</table>\n",
       "</div>"
      ],
      "text/plain": [
       "   student_id\n",
       "0      581585\n",
       "1     5723133\n",
       "2     3276743"
      ]
     },
     "execution_count": 7,
     "metadata": {},
     "output_type": "execute_result"
    }
   ],
   "source": [
    "active_studs.head(3)"
   ]
  },
  {
   "cell_type": "code",
   "execution_count": 8,
   "metadata": {},
   "outputs": [
    {
     "data": {
      "text/html": [
       "<div>\n",
       "<style scoped>\n",
       "    .dataframe tbody tr th:only-of-type {\n",
       "        vertical-align: middle;\n",
       "    }\n",
       "\n",
       "    .dataframe tbody tr th {\n",
       "        vertical-align: top;\n",
       "    }\n",
       "\n",
       "    .dataframe thead th {\n",
       "        text-align: right;\n",
       "    }\n",
       "</style>\n",
       "<table border=\"1\" class=\"dataframe\">\n",
       "  <thead>\n",
       "    <tr style=\"text-align: right;\">\n",
       "      <th></th>\n",
       "      <th>student_id</th>\n",
       "      <th>rev</th>\n",
       "    </tr>\n",
       "  </thead>\n",
       "  <tbody>\n",
       "    <tr>\n",
       "      <th>0</th>\n",
       "      <td>1627</td>\n",
       "      <td>990.0</td>\n",
       "    </tr>\n",
       "    <tr>\n",
       "      <th>1</th>\n",
       "      <td>3185</td>\n",
       "      <td>690.0</td>\n",
       "    </tr>\n",
       "    <tr>\n",
       "      <th>2</th>\n",
       "      <td>25973</td>\n",
       "      <td>690.0</td>\n",
       "    </tr>\n",
       "  </tbody>\n",
       "</table>\n",
       "</div>"
      ],
      "text/plain": [
       "   student_id    rev\n",
       "0        1627  990.0\n",
       "1        3185  690.0\n",
       "2       25973  690.0"
      ]
     },
     "execution_count": 8,
     "metadata": {},
     "output_type": "execute_result"
    }
   ],
   "source": [
    "checks.head(3)"
   ]
  },
  {
   "cell_type": "markdown",
   "metadata": {},
   "source": [
    "Данные получены и загружены корректно, рассмотрим их описание."
   ]
  },
  {
   "cell_type": "markdown",
   "metadata": {},
   "source": [
    "### Описание данных\n",
    "\n",
    "**groups.csv** - файл с информацией о принадлежности пользователя к контрольной или экспериментальной группе \n",
    "\n",
    "- `id` - уникальный идентификатор пользователя\n",
    "- `grp` - обозначение группы (А – контроль, B – целевая группа) \n",
    "\n",
    "**groups_add.csv** - дополнительный файл с пользователями, который вам прислали спустя 2 дня после передачи данных\n",
    "\n",
    "- `id` - уникальный идентификатор пользователя\n",
    "- `grp` - обозначение группы (А – контроль, B – целевая группа) \n",
    "\n",
    "**active_studs.csv** - файл с информацией о пользователях, которые зашли на платформу в дни проведения эксперимента\n",
    "\n",
    "- `student_id` - идентификатор пользователя\n",
    "\n",
    "**checks.csv** - файл с информацией об оплатах пользователей в дни проведения эксперимента\n",
    "\n",
    "- `student_id` - идентификатор пользователя\n",
    "- `rev` - выручка с пользователя"
   ]
  },
  {
   "cell_type": "markdown",
   "metadata": {},
   "source": [
    "Выведем случайные 5 строк, общую информацию о каждом датасете (вместе с информацией об абсолютном и относительном количестве пропусков), основные статистики по столбцам и количество явных дубликатов.\n",
    "\n",
    "Для удобства работы весь процесс реализуем через функции."
   ]
  },
  {
   "cell_type": "code",
   "execution_count": 9,
   "metadata": {},
   "outputs": [],
   "source": [
    "def nans(df):\n",
    "    '''\n",
    "    функция выводит количество пропусков в каждом столбце \n",
    "    и их долю от общего количества данных в столбце\n",
    "    '''   \n",
    "    count_missing = df.isna().sum()\n",
    "    percent_missing = round(df.isna().sum() * 100 / len(df), 2)\n",
    "    \n",
    "    missing_value_df = pd.DataFrame({'num_missing': count_missing,\n",
    "                                     'percent_missing': percent_missing})\n",
    "    \n",
    "    return missing_value_df.reset_index().rename(columns={'index':'column'})"
   ]
  },
  {
   "cell_type": "code",
   "execution_count": 10,
   "metadata": {},
   "outputs": [],
   "source": [
    "def info_dataframe(data, details=False):\n",
    "    '''функция преобразует df.info() в датафрейм'''\n",
    "    \n",
    "    dfInfo = data.columns.to_frame(name='column')\n",
    "    dfInfo['dtype'] = data.dtypes\n",
    "    dfInfo['non_null_count'] = data.notna().sum()  \n",
    "    dfInfo.reset_index(drop=True, inplace=True)\n",
    "    \n",
    "    if details:\n",
    "        rangeIndex = (dfInfo['non_null_count'].min(), dfInfo['non_null_count'].min())\n",
    "        totalColumns = dfInfo['column'].count()\n",
    "        dtypesCount = dfInfo['dtype'].value_counts()\n",
    "        totalMemory = dfInfo.memory_usage().sum()\n",
    "        return dfInfo, rangeIndex, totalColumns, dtypesCount, totalMemory\n",
    "    else:\n",
    "        return dfInfo"
   ]
  },
  {
   "cell_type": "code",
   "execution_count": 11,
   "metadata": {},
   "outputs": [],
   "source": [
    "def all_info(df):\n",
    "    '''\n",
    "    функция выводит случайные 5 строк, информацию по датафрейму, \n",
    "    включая пропуски и их долю, статистики и кол-во дубликатов\n",
    "    '''\n",
    "    display(df.sample(5))\n",
    "    print(f'Датафрейм содержит {df.shape[0]} записей и {df.shape[1]} колонок')\n",
    "    all_info_df = info_dataframe(df).merge(nans(df), on='column')\n",
    "    display(all_info_df)\n",
    "    display(df.describe()) \n",
    "    print(f'Количество явных дубликатов в датафрейме {df.duplicated().sum()}')"
   ]
  },
  {
   "cell_type": "code",
   "execution_count": 12,
   "metadata": {},
   "outputs": [
    {
     "data": {
      "text/html": [
       "<div>\n",
       "<style scoped>\n",
       "    .dataframe tbody tr th:only-of-type {\n",
       "        vertical-align: middle;\n",
       "    }\n",
       "\n",
       "    .dataframe tbody tr th {\n",
       "        vertical-align: top;\n",
       "    }\n",
       "\n",
       "    .dataframe thead th {\n",
       "        text-align: right;\n",
       "    }\n",
       "</style>\n",
       "<table border=\"1\" class=\"dataframe\">\n",
       "  <thead>\n",
       "    <tr style=\"text-align: right;\">\n",
       "      <th></th>\n",
       "      <th>id</th>\n",
       "      <th>grp</th>\n",
       "    </tr>\n",
       "  </thead>\n",
       "  <tbody>\n",
       "    <tr>\n",
       "      <th>25377</th>\n",
       "      <td>1175315</td>\n",
       "      <td>B</td>\n",
       "    </tr>\n",
       "    <tr>\n",
       "      <th>56422</th>\n",
       "      <td>3356875</td>\n",
       "      <td>B</td>\n",
       "    </tr>\n",
       "    <tr>\n",
       "      <th>64526</th>\n",
       "      <td>4267026</td>\n",
       "      <td>B</td>\n",
       "    </tr>\n",
       "    <tr>\n",
       "      <th>12332</th>\n",
       "      <td>535569</td>\n",
       "      <td>B</td>\n",
       "    </tr>\n",
       "    <tr>\n",
       "      <th>73015</th>\n",
       "      <td>5374712</td>\n",
       "      <td>B</td>\n",
       "    </tr>\n",
       "  </tbody>\n",
       "</table>\n",
       "</div>"
      ],
      "text/plain": [
       "            id grp\n",
       "25377  1175315   B\n",
       "56422  3356875   B\n",
       "64526  4267026   B\n",
       "12332   535569   B\n",
       "73015  5374712   B"
      ]
     },
     "metadata": {},
     "output_type": "display_data"
    },
    {
     "name": "stdout",
     "output_type": "stream",
     "text": [
      "Датафрейм содержит 74484 записей и 2 колонок\n"
     ]
    },
    {
     "data": {
      "text/html": [
       "<div>\n",
       "<style scoped>\n",
       "    .dataframe tbody tr th:only-of-type {\n",
       "        vertical-align: middle;\n",
       "    }\n",
       "\n",
       "    .dataframe tbody tr th {\n",
       "        vertical-align: top;\n",
       "    }\n",
       "\n",
       "    .dataframe thead th {\n",
       "        text-align: right;\n",
       "    }\n",
       "</style>\n",
       "<table border=\"1\" class=\"dataframe\">\n",
       "  <thead>\n",
       "    <tr style=\"text-align: right;\">\n",
       "      <th></th>\n",
       "      <th>column</th>\n",
       "      <th>dtype</th>\n",
       "      <th>non_null_count</th>\n",
       "      <th>num_missing</th>\n",
       "      <th>percent_missing</th>\n",
       "    </tr>\n",
       "  </thead>\n",
       "  <tbody>\n",
       "    <tr>\n",
       "      <th>0</th>\n",
       "      <td>id</td>\n",
       "      <td>int64</td>\n",
       "      <td>74484</td>\n",
       "      <td>0</td>\n",
       "      <td>0.0</td>\n",
       "    </tr>\n",
       "    <tr>\n",
       "      <th>1</th>\n",
       "      <td>grp</td>\n",
       "      <td>object</td>\n",
       "      <td>74484</td>\n",
       "      <td>0</td>\n",
       "      <td>0.0</td>\n",
       "    </tr>\n",
       "  </tbody>\n",
       "</table>\n",
       "</div>"
      ],
      "text/plain": [
       "  column   dtype  non_null_count  num_missing  percent_missing\n",
       "0     id   int64           74484            0              0.0\n",
       "1    grp  object           74484            0              0.0"
      ]
     },
     "metadata": {},
     "output_type": "display_data"
    },
    {
     "data": {
      "text/html": [
       "<div>\n",
       "<style scoped>\n",
       "    .dataframe tbody tr th:only-of-type {\n",
       "        vertical-align: middle;\n",
       "    }\n",
       "\n",
       "    .dataframe tbody tr th {\n",
       "        vertical-align: top;\n",
       "    }\n",
       "\n",
       "    .dataframe thead th {\n",
       "        text-align: right;\n",
       "    }\n",
       "</style>\n",
       "<table border=\"1\" class=\"dataframe\">\n",
       "  <thead>\n",
       "    <tr style=\"text-align: right;\">\n",
       "      <th></th>\n",
       "      <th>id</th>\n",
       "    </tr>\n",
       "  </thead>\n",
       "  <tbody>\n",
       "    <tr>\n",
       "      <th>count</th>\n",
       "      <td>7.448400e+04</td>\n",
       "    </tr>\n",
       "    <tr>\n",
       "      <th>mean</th>\n",
       "      <td>2.133752e+06</td>\n",
       "    </tr>\n",
       "    <tr>\n",
       "      <th>std</th>\n",
       "      <td>1.531423e+06</td>\n",
       "    </tr>\n",
       "    <tr>\n",
       "      <th>min</th>\n",
       "      <td>1.489000e+03</td>\n",
       "    </tr>\n",
       "    <tr>\n",
       "      <th>25%</th>\n",
       "      <td>9.174980e+05</td>\n",
       "    </tr>\n",
       "    <tr>\n",
       "      <th>50%</th>\n",
       "      <td>1.667190e+06</td>\n",
       "    </tr>\n",
       "    <tr>\n",
       "      <th>75%</th>\n",
       "      <td>3.322955e+06</td>\n",
       "    </tr>\n",
       "    <tr>\n",
       "      <th>max</th>\n",
       "      <td>5.694419e+06</td>\n",
       "    </tr>\n",
       "  </tbody>\n",
       "</table>\n",
       "</div>"
      ],
      "text/plain": [
       "                 id\n",
       "count  7.448400e+04\n",
       "mean   2.133752e+06\n",
       "std    1.531423e+06\n",
       "min    1.489000e+03\n",
       "25%    9.174980e+05\n",
       "50%    1.667190e+06\n",
       "75%    3.322955e+06\n",
       "max    5.694419e+06"
      ]
     },
     "metadata": {},
     "output_type": "display_data"
    },
    {
     "name": "stdout",
     "output_type": "stream",
     "text": [
      "Количество явных дубликатов в датафрейме 0\n"
     ]
    }
   ],
   "source": [
    "all_info(groups)"
   ]
  },
  {
   "cell_type": "code",
   "execution_count": 13,
   "metadata": {},
   "outputs": [
    {
     "data": {
      "text/plain": [
       "B    59813\n",
       "A    14671\n",
       "Name: grp, dtype: int64"
      ]
     },
     "execution_count": 13,
     "metadata": {},
     "output_type": "execute_result"
    }
   ],
   "source": [
    "# проверка количества пользователей в каждой группе\n",
    "\n",
    "groups.grp.value_counts()"
   ]
  },
  {
   "cell_type": "code",
   "execution_count": 14,
   "metadata": {},
   "outputs": [
    {
     "data": {
      "text/plain": [
       "id     74484\n",
       "grp        2\n",
       "dtype: int64"
      ]
     },
     "execution_count": 14,
     "metadata": {},
     "output_type": "execute_result"
    }
   ],
   "source": [
    "# проверка уникальности пользователей\n",
    "\n",
    "groups.nunique()"
   ]
  },
  {
   "cell_type": "markdown",
   "metadata": {},
   "source": [
    "Датасет с информацией о принадлежности пользователя к контрольной или экспериментальной группе:\n",
    "\n",
    "- содержит 74484 записей и 2 колонки, каждая запись представляет информацию по уникальному пользователю,\n",
    "- не содержит пропусков и явных дубликатов,\n",
    "- типы колонок соответствуют содержимому,\n",
    "- содержит информацию о пользователях из контрольной группы A и B, причем наблюдается дисбаланс классов: экспериментальная (целевая) группа пользователей превосходит контрольную более чем в 4 раза."
   ]
  },
  {
   "cell_type": "code",
   "execution_count": 15,
   "metadata": {},
   "outputs": [
    {
     "data": {
      "text/html": [
       "<div>\n",
       "<style scoped>\n",
       "    .dataframe tbody tr th:only-of-type {\n",
       "        vertical-align: middle;\n",
       "    }\n",
       "\n",
       "    .dataframe tbody tr th {\n",
       "        vertical-align: top;\n",
       "    }\n",
       "\n",
       "    .dataframe thead th {\n",
       "        text-align: right;\n",
       "    }\n",
       "</style>\n",
       "<table border=\"1\" class=\"dataframe\">\n",
       "  <thead>\n",
       "    <tr style=\"text-align: right;\">\n",
       "      <th></th>\n",
       "      <th>id</th>\n",
       "      <th>grp</th>\n",
       "    </tr>\n",
       "  </thead>\n",
       "  <tbody>\n",
       "    <tr>\n",
       "      <th>8</th>\n",
       "      <td>5700771</td>\n",
       "      <td>B</td>\n",
       "    </tr>\n",
       "    <tr>\n",
       "      <th>2</th>\n",
       "      <td>5695057</td>\n",
       "      <td>B</td>\n",
       "    </tr>\n",
       "    <tr>\n",
       "      <th>25</th>\n",
       "      <td>5713186</td>\n",
       "      <td>B</td>\n",
       "    </tr>\n",
       "    <tr>\n",
       "      <th>32</th>\n",
       "      <td>5717588</td>\n",
       "      <td>A</td>\n",
       "    </tr>\n",
       "    <tr>\n",
       "      <th>0</th>\n",
       "      <td>5694584</td>\n",
       "      <td>B</td>\n",
       "    </tr>\n",
       "  </tbody>\n",
       "</table>\n",
       "</div>"
      ],
      "text/plain": [
       "         id grp\n",
       "8   5700771   B\n",
       "2   5695057   B\n",
       "25  5713186   B\n",
       "32  5717588   A\n",
       "0   5694584   B"
      ]
     },
     "metadata": {},
     "output_type": "display_data"
    },
    {
     "name": "stdout",
     "output_type": "stream",
     "text": [
      "Датафрейм содержит 92 записей и 2 колонок\n"
     ]
    },
    {
     "data": {
      "text/html": [
       "<div>\n",
       "<style scoped>\n",
       "    .dataframe tbody tr th:only-of-type {\n",
       "        vertical-align: middle;\n",
       "    }\n",
       "\n",
       "    .dataframe tbody tr th {\n",
       "        vertical-align: top;\n",
       "    }\n",
       "\n",
       "    .dataframe thead th {\n",
       "        text-align: right;\n",
       "    }\n",
       "</style>\n",
       "<table border=\"1\" class=\"dataframe\">\n",
       "  <thead>\n",
       "    <tr style=\"text-align: right;\">\n",
       "      <th></th>\n",
       "      <th>column</th>\n",
       "      <th>dtype</th>\n",
       "      <th>non_null_count</th>\n",
       "      <th>num_missing</th>\n",
       "      <th>percent_missing</th>\n",
       "    </tr>\n",
       "  </thead>\n",
       "  <tbody>\n",
       "    <tr>\n",
       "      <th>0</th>\n",
       "      <td>id</td>\n",
       "      <td>int64</td>\n",
       "      <td>92</td>\n",
       "      <td>0</td>\n",
       "      <td>0.0</td>\n",
       "    </tr>\n",
       "    <tr>\n",
       "      <th>1</th>\n",
       "      <td>grp</td>\n",
       "      <td>object</td>\n",
       "      <td>92</td>\n",
       "      <td>0</td>\n",
       "      <td>0.0</td>\n",
       "    </tr>\n",
       "  </tbody>\n",
       "</table>\n",
       "</div>"
      ],
      "text/plain": [
       "  column   dtype  non_null_count  num_missing  percent_missing\n",
       "0     id   int64              92            0              0.0\n",
       "1    grp  object              92            0              0.0"
      ]
     },
     "metadata": {},
     "output_type": "display_data"
    },
    {
     "data": {
      "text/html": [
       "<div>\n",
       "<style scoped>\n",
       "    .dataframe tbody tr th:only-of-type {\n",
       "        vertical-align: middle;\n",
       "    }\n",
       "\n",
       "    .dataframe tbody tr th {\n",
       "        vertical-align: top;\n",
       "    }\n",
       "\n",
       "    .dataframe thead th {\n",
       "        text-align: right;\n",
       "    }\n",
       "</style>\n",
       "<table border=\"1\" class=\"dataframe\">\n",
       "  <thead>\n",
       "    <tr style=\"text-align: right;\">\n",
       "      <th></th>\n",
       "      <th>id</th>\n",
       "    </tr>\n",
       "  </thead>\n",
       "  <tbody>\n",
       "    <tr>\n",
       "      <th>count</th>\n",
       "      <td>9.200000e+01</td>\n",
       "    </tr>\n",
       "    <tr>\n",
       "      <th>mean</th>\n",
       "      <td>2.796406e+07</td>\n",
       "    </tr>\n",
       "    <tr>\n",
       "      <th>std</th>\n",
       "      <td>6.141605e+07</td>\n",
       "    </tr>\n",
       "    <tr>\n",
       "      <th>min</th>\n",
       "      <td>5.694584e+06</td>\n",
       "    </tr>\n",
       "    <tr>\n",
       "      <th>25%</th>\n",
       "      <td>5.712349e+06</td>\n",
       "    </tr>\n",
       "    <tr>\n",
       "      <th>50%</th>\n",
       "      <td>5.729634e+06</td>\n",
       "    </tr>\n",
       "    <tr>\n",
       "      <th>75%</th>\n",
       "      <td>5.825646e+06</td>\n",
       "    </tr>\n",
       "    <tr>\n",
       "      <th>max</th>\n",
       "      <td>2.010677e+08</td>\n",
       "    </tr>\n",
       "  </tbody>\n",
       "</table>\n",
       "</div>"
      ],
      "text/plain": [
       "                 id\n",
       "count  9.200000e+01\n",
       "mean   2.796406e+07\n",
       "std    6.141605e+07\n",
       "min    5.694584e+06\n",
       "25%    5.712349e+06\n",
       "50%    5.729634e+06\n",
       "75%    5.825646e+06\n",
       "max    2.010677e+08"
      ]
     },
     "metadata": {},
     "output_type": "display_data"
    },
    {
     "name": "stdout",
     "output_type": "stream",
     "text": [
      "Количество явных дубликатов в датафрейме 0\n"
     ]
    }
   ],
   "source": [
    "all_info(groups_add)"
   ]
  },
  {
   "cell_type": "code",
   "execution_count": 16,
   "metadata": {},
   "outputs": [
    {
     "data": {
      "text/plain": [
       "B    70\n",
       "A    22\n",
       "Name: grp, dtype: int64"
      ]
     },
     "execution_count": 16,
     "metadata": {},
     "output_type": "execute_result"
    }
   ],
   "source": [
    "# проверка количества пользователей в каждой группе\n",
    "\n",
    "groups_add.grp.value_counts()"
   ]
  },
  {
   "cell_type": "markdown",
   "metadata": {},
   "source": [
    "Доолнительный датасет с информацией о пользователях:\n",
    "\n",
    "- содержит 92 записи и 2 колонки, каждая запись представляет информацию по уникальному пользователю,\n",
    "- не содержит пропусков и явных дубликатов,\n",
    "- типы колонок соответствуют содержимому,\n",
    "- содержит информацию о пользователях из контрольной группы A и B, дисбаланс классов сохраняется."
   ]
  },
  {
   "cell_type": "code",
   "execution_count": 17,
   "metadata": {},
   "outputs": [
    {
     "data": {
      "text/html": [
       "<div>\n",
       "<style scoped>\n",
       "    .dataframe tbody tr th:only-of-type {\n",
       "        vertical-align: middle;\n",
       "    }\n",
       "\n",
       "    .dataframe tbody tr th {\n",
       "        vertical-align: top;\n",
       "    }\n",
       "\n",
       "    .dataframe thead th {\n",
       "        text-align: right;\n",
       "    }\n",
       "</style>\n",
       "<table border=\"1\" class=\"dataframe\">\n",
       "  <thead>\n",
       "    <tr style=\"text-align: right;\">\n",
       "      <th></th>\n",
       "      <th>student_id</th>\n",
       "    </tr>\n",
       "  </thead>\n",
       "  <tbody>\n",
       "    <tr>\n",
       "      <th>1316</th>\n",
       "      <td>1348227</td>\n",
       "    </tr>\n",
       "    <tr>\n",
       "      <th>3472</th>\n",
       "      <td>4212147</td>\n",
       "    </tr>\n",
       "    <tr>\n",
       "      <th>8252</th>\n",
       "      <td>3740248</td>\n",
       "    </tr>\n",
       "    <tr>\n",
       "      <th>6325</th>\n",
       "      <td>443441</td>\n",
       "    </tr>\n",
       "    <tr>\n",
       "      <th>7127</th>\n",
       "      <td>2185262</td>\n",
       "    </tr>\n",
       "  </tbody>\n",
       "</table>\n",
       "</div>"
      ],
      "text/plain": [
       "      student_id\n",
       "1316     1348227\n",
       "3472     4212147\n",
       "8252     3740248\n",
       "6325      443441\n",
       "7127     2185262"
      ]
     },
     "metadata": {},
     "output_type": "display_data"
    },
    {
     "name": "stdout",
     "output_type": "stream",
     "text": [
      "Датафрейм содержит 8341 записей и 1 колонок\n"
     ]
    },
    {
     "data": {
      "text/html": [
       "<div>\n",
       "<style scoped>\n",
       "    .dataframe tbody tr th:only-of-type {\n",
       "        vertical-align: middle;\n",
       "    }\n",
       "\n",
       "    .dataframe tbody tr th {\n",
       "        vertical-align: top;\n",
       "    }\n",
       "\n",
       "    .dataframe thead th {\n",
       "        text-align: right;\n",
       "    }\n",
       "</style>\n",
       "<table border=\"1\" class=\"dataframe\">\n",
       "  <thead>\n",
       "    <tr style=\"text-align: right;\">\n",
       "      <th></th>\n",
       "      <th>column</th>\n",
       "      <th>dtype</th>\n",
       "      <th>non_null_count</th>\n",
       "      <th>num_missing</th>\n",
       "      <th>percent_missing</th>\n",
       "    </tr>\n",
       "  </thead>\n",
       "  <tbody>\n",
       "    <tr>\n",
       "      <th>0</th>\n",
       "      <td>student_id</td>\n",
       "      <td>int64</td>\n",
       "      <td>8341</td>\n",
       "      <td>0</td>\n",
       "      <td>0.0</td>\n",
       "    </tr>\n",
       "  </tbody>\n",
       "</table>\n",
       "</div>"
      ],
      "text/plain": [
       "       column  dtype  non_null_count  num_missing  percent_missing\n",
       "0  student_id  int64            8341            0              0.0"
      ]
     },
     "metadata": {},
     "output_type": "display_data"
    },
    {
     "data": {
      "text/html": [
       "<div>\n",
       "<style scoped>\n",
       "    .dataframe tbody tr th:only-of-type {\n",
       "        vertical-align: middle;\n",
       "    }\n",
       "\n",
       "    .dataframe tbody tr th {\n",
       "        vertical-align: top;\n",
       "    }\n",
       "\n",
       "    .dataframe thead th {\n",
       "        text-align: right;\n",
       "    }\n",
       "</style>\n",
       "<table border=\"1\" class=\"dataframe\">\n",
       "  <thead>\n",
       "    <tr style=\"text-align: right;\">\n",
       "      <th></th>\n",
       "      <th>student_id</th>\n",
       "    </tr>\n",
       "  </thead>\n",
       "  <tbody>\n",
       "    <tr>\n",
       "      <th>count</th>\n",
       "      <td>8.341000e+03</td>\n",
       "    </tr>\n",
       "    <tr>\n",
       "      <th>mean</th>\n",
       "      <td>2.448547e+06</td>\n",
       "    </tr>\n",
       "    <tr>\n",
       "      <th>std</th>\n",
       "      <td>1.564978e+06</td>\n",
       "    </tr>\n",
       "    <tr>\n",
       "      <th>min</th>\n",
       "      <td>1.627000e+03</td>\n",
       "    </tr>\n",
       "    <tr>\n",
       "      <th>25%</th>\n",
       "      <td>1.118405e+06</td>\n",
       "    </tr>\n",
       "    <tr>\n",
       "      <th>50%</th>\n",
       "      <td>2.094192e+06</td>\n",
       "    </tr>\n",
       "    <tr>\n",
       "      <th>75%</th>\n",
       "      <td>3.638877e+06</td>\n",
       "    </tr>\n",
       "    <tr>\n",
       "      <th>max</th>\n",
       "      <td>5.951797e+06</td>\n",
       "    </tr>\n",
       "  </tbody>\n",
       "</table>\n",
       "</div>"
      ],
      "text/plain": [
       "         student_id\n",
       "count  8.341000e+03\n",
       "mean   2.448547e+06\n",
       "std    1.564978e+06\n",
       "min    1.627000e+03\n",
       "25%    1.118405e+06\n",
       "50%    2.094192e+06\n",
       "75%    3.638877e+06\n",
       "max    5.951797e+06"
      ]
     },
     "metadata": {},
     "output_type": "display_data"
    },
    {
     "name": "stdout",
     "output_type": "stream",
     "text": [
      "Количество явных дубликатов в датафрейме 0\n"
     ]
    }
   ],
   "source": [
    "all_info(active_studs)"
   ]
  },
  {
   "cell_type": "code",
   "execution_count": 18,
   "metadata": {},
   "outputs": [
    {
     "data": {
      "text/plain": [
       "8341"
      ]
     },
     "execution_count": 18,
     "metadata": {},
     "output_type": "execute_result"
    }
   ],
   "source": [
    "active_studs.student_id.nunique()"
   ]
  },
  {
   "cell_type": "markdown",
   "metadata": {},
   "source": [
    "Датасет с информацией о пользователях, которые зашли на платформу в дни проведения эксперимента:\n",
    "\n",
    "- содержит 8341 записи и 1 колонку,\n",
    "- не содержит пропусков и явных дубликатов,\n",
    "- все айди пользователей уникальны."
   ]
  },
  {
   "cell_type": "code",
   "execution_count": 19,
   "metadata": {},
   "outputs": [
    {
     "data": {
      "text/html": [
       "<div>\n",
       "<style scoped>\n",
       "    .dataframe tbody tr th:only-of-type {\n",
       "        vertical-align: middle;\n",
       "    }\n",
       "\n",
       "    .dataframe tbody tr th {\n",
       "        vertical-align: top;\n",
       "    }\n",
       "\n",
       "    .dataframe thead th {\n",
       "        text-align: right;\n",
       "    }\n",
       "</style>\n",
       "<table border=\"1\" class=\"dataframe\">\n",
       "  <thead>\n",
       "    <tr style=\"text-align: right;\">\n",
       "      <th></th>\n",
       "      <th>student_id</th>\n",
       "      <th>rev</th>\n",
       "    </tr>\n",
       "  </thead>\n",
       "  <tbody>\n",
       "    <tr>\n",
       "      <th>232</th>\n",
       "      <td>1736530</td>\n",
       "      <td>2190.0</td>\n",
       "    </tr>\n",
       "    <tr>\n",
       "      <th>267</th>\n",
       "      <td>2480939</td>\n",
       "      <td>290.0</td>\n",
       "    </tr>\n",
       "    <tr>\n",
       "      <th>33</th>\n",
       "      <td>299195</td>\n",
       "      <td>1900.0</td>\n",
       "    </tr>\n",
       "    <tr>\n",
       "      <th>498</th>\n",
       "      <td>5180675</td>\n",
       "      <td>870.0</td>\n",
       "    </tr>\n",
       "    <tr>\n",
       "      <th>522</th>\n",
       "      <td>5523486</td>\n",
       "      <td>199.0</td>\n",
       "    </tr>\n",
       "  </tbody>\n",
       "</table>\n",
       "</div>"
      ],
      "text/plain": [
       "     student_id     rev\n",
       "232     1736530  2190.0\n",
       "267     2480939   290.0\n",
       "33       299195  1900.0\n",
       "498     5180675   870.0\n",
       "522     5523486   199.0"
      ]
     },
     "metadata": {},
     "output_type": "display_data"
    },
    {
     "name": "stdout",
     "output_type": "stream",
     "text": [
      "Датафрейм содержит 541 записей и 2 колонок\n"
     ]
    },
    {
     "data": {
      "text/html": [
       "<div>\n",
       "<style scoped>\n",
       "    .dataframe tbody tr th:only-of-type {\n",
       "        vertical-align: middle;\n",
       "    }\n",
       "\n",
       "    .dataframe tbody tr th {\n",
       "        vertical-align: top;\n",
       "    }\n",
       "\n",
       "    .dataframe thead th {\n",
       "        text-align: right;\n",
       "    }\n",
       "</style>\n",
       "<table border=\"1\" class=\"dataframe\">\n",
       "  <thead>\n",
       "    <tr style=\"text-align: right;\">\n",
       "      <th></th>\n",
       "      <th>column</th>\n",
       "      <th>dtype</th>\n",
       "      <th>non_null_count</th>\n",
       "      <th>num_missing</th>\n",
       "      <th>percent_missing</th>\n",
       "    </tr>\n",
       "  </thead>\n",
       "  <tbody>\n",
       "    <tr>\n",
       "      <th>0</th>\n",
       "      <td>student_id</td>\n",
       "      <td>int64</td>\n",
       "      <td>541</td>\n",
       "      <td>0</td>\n",
       "      <td>0.0</td>\n",
       "    </tr>\n",
       "    <tr>\n",
       "      <th>1</th>\n",
       "      <td>rev</td>\n",
       "      <td>float64</td>\n",
       "      <td>541</td>\n",
       "      <td>0</td>\n",
       "      <td>0.0</td>\n",
       "    </tr>\n",
       "  </tbody>\n",
       "</table>\n",
       "</div>"
      ],
      "text/plain": [
       "       column    dtype  non_null_count  num_missing  percent_missing\n",
       "0  student_id    int64             541            0              0.0\n",
       "1         rev  float64             541            0              0.0"
      ]
     },
     "metadata": {},
     "output_type": "display_data"
    },
    {
     "data": {
      "text/html": [
       "<div>\n",
       "<style scoped>\n",
       "    .dataframe tbody tr th:only-of-type {\n",
       "        vertical-align: middle;\n",
       "    }\n",
       "\n",
       "    .dataframe tbody tr th {\n",
       "        vertical-align: top;\n",
       "    }\n",
       "\n",
       "    .dataframe thead th {\n",
       "        text-align: right;\n",
       "    }\n",
       "</style>\n",
       "<table border=\"1\" class=\"dataframe\">\n",
       "  <thead>\n",
       "    <tr style=\"text-align: right;\">\n",
       "      <th></th>\n",
       "      <th>student_id</th>\n",
       "      <th>rev</th>\n",
       "    </tr>\n",
       "  </thead>\n",
       "  <tbody>\n",
       "    <tr>\n",
       "      <th>count</th>\n",
       "      <td>5.410000e+02</td>\n",
       "      <td>541.000000</td>\n",
       "    </tr>\n",
       "    <tr>\n",
       "      <th>mean</th>\n",
       "      <td>2.514772e+06</td>\n",
       "      <td>1059.752317</td>\n",
       "    </tr>\n",
       "    <tr>\n",
       "      <th>std</th>\n",
       "      <td>1.726839e+06</td>\n",
       "      <td>762.712359</td>\n",
       "    </tr>\n",
       "    <tr>\n",
       "      <th>min</th>\n",
       "      <td>1.627000e+03</td>\n",
       "      <td>199.000000</td>\n",
       "    </tr>\n",
       "    <tr>\n",
       "      <th>25%</th>\n",
       "      <td>9.871290e+05</td>\n",
       "      <td>290.000000</td>\n",
       "    </tr>\n",
       "    <tr>\n",
       "      <th>50%</th>\n",
       "      <td>2.526021e+06</td>\n",
       "      <td>840.000000</td>\n",
       "    </tr>\n",
       "    <tr>\n",
       "      <th>75%</th>\n",
       "      <td>3.993249e+06</td>\n",
       "      <td>1900.000000</td>\n",
       "    </tr>\n",
       "    <tr>\n",
       "      <th>max</th>\n",
       "      <td>5.740903e+06</td>\n",
       "      <td>4650.000000</td>\n",
       "    </tr>\n",
       "  </tbody>\n",
       "</table>\n",
       "</div>"
      ],
      "text/plain": [
       "         student_id          rev\n",
       "count  5.410000e+02   541.000000\n",
       "mean   2.514772e+06  1059.752317\n",
       "std    1.726839e+06   762.712359\n",
       "min    1.627000e+03   199.000000\n",
       "25%    9.871290e+05   290.000000\n",
       "50%    2.526021e+06   840.000000\n",
       "75%    3.993249e+06  1900.000000\n",
       "max    5.740903e+06  4650.000000"
      ]
     },
     "metadata": {},
     "output_type": "display_data"
    },
    {
     "name": "stdout",
     "output_type": "stream",
     "text": [
      "Количество явных дубликатов в датафрейме 0\n"
     ]
    }
   ],
   "source": [
    "all_info(checks)"
   ]
  },
  {
   "cell_type": "code",
   "execution_count": 20,
   "metadata": {},
   "outputs": [
    {
     "data": {
      "text/plain": [
       "541"
      ]
     },
     "execution_count": 20,
     "metadata": {},
     "output_type": "execute_result"
    }
   ],
   "source": [
    "checks.student_id.nunique()"
   ]
  },
  {
   "cell_type": "code",
   "execution_count": 21,
   "metadata": {},
   "outputs": [
    {
     "data": {
      "image/png": "[encoded data removed]",
      "text/plain": [
       "<Figure size 640x480 with 1 Axes>"
      ]
     },
     "metadata": {},
     "output_type": "display_data"
    }
   ],
   "source": [
    "sns.boxplot(checks.rev);"
   ]
  },
  {
   "cell_type": "markdown",
   "metadata": {},
   "source": [
    "Датасет с информацией об оплатах пользователей в дни проведения эксперимента:\n",
    "\n",
    "- содержит 541 записей и 2 колонки,\n",
    "- не содержит пропусков и явных дубликатов,\n",
    "- типы колонок соответствуют содержимому,\n",
    "- каждая запись содержит информацию о выручке уникального пользователя,\n",
    "- значени выручки находятся в диапазоне от 199 до 4650 со средним в 1059 и медианой 840."
   ]
  },
  {
   "cell_type": "markdown",
   "metadata": {},
   "source": [
    "## 2. Исследовательский анализ данных."
   ]
  },
  {
   "cell_type": "markdown",
   "metadata": {},
   "source": [
    "Теперь, когда мы имеем доступ ко всей информации, рассмотрим распределения пользователей по различным статусам."
   ]
  },
  {
   "cell_type": "markdown",
   "metadata": {},
   "source": [
    "### 2.1. Формирование единого представления о пользователях."
   ]
  },
  {
   "cell_type": "markdown",
   "metadata": {},
   "source": [
    "Для начала проверим, учтены ли данные из `groups_add` в `active_studs` и `checks`."
   ]
  },
  {
   "cell_type": "code",
   "execution_count": 22,
   "metadata": {},
   "outputs": [
    {
     "name": "stdout",
     "output_type": "stream",
     "text": [
      "Количество учтенных id в active_studs: 13 \n",
      "Количество учтенных id в checks: 1\n"
     ]
    }
   ],
   "source": [
    "print('Количество учтенных id в active_studs:', groups_add.query('id in @active_studs.student_id').shape[0], \n",
    "      '\\nКоличество учтенных id в checks:',     groups_add.query('id in @checks.student_id').shape[0])"
   ]
  },
  {
   "cell_type": "markdown",
   "metadata": {},
   "source": [
    "Соединим датафрейм `groups` c датафреймом `groups_add`, так как второй является дополнением первого."
   ]
  },
  {
   "cell_type": "code",
   "execution_count": 23,
   "metadata": {},
   "outputs": [],
   "source": [
    "groups_total = pd.concat([groups, groups_add]).rename(columns={'id': 'student_id'})"
   ]
  },
  {
   "cell_type": "code",
   "execution_count": 24,
   "metadata": {
    "scrolled": true
   },
   "outputs": [
    {
     "name": "stdout",
     "output_type": "stream",
     "text": [
      "<class 'pandas.core.frame.DataFrame'>\n",
      "Int64Index: 74576 entries, 0 to 91\n",
      "Data columns (total 2 columns):\n",
      " #   Column      Non-Null Count  Dtype \n",
      "---  ------      --------------  ----- \n",
      " 0   student_id  74576 non-null  int64 \n",
      " 1   grp         74576 non-null  object\n",
      "dtypes: int64(1), object(1)\n",
      "memory usage: 1.7+ MB\n"
     ]
    }
   ],
   "source": [
    "groups_total.info()"
   ]
  },
  {
   "cell_type": "code",
   "execution_count": 25,
   "metadata": {},
   "outputs": [
    {
     "name": "stdout",
     "output_type": "stream",
     "text": [
      "Распределение всех пользователей по группам: \n",
      "Группа A: 14693 \n",
      "Группа B: 59883 \n",
      "Всего:    74576\n"
     ]
    }
   ],
   "source": [
    "print('Распределение всех пользователей по группам: \\nГруппа A:', \n",
    "      groups_total.grp.value_counts()[1], '\\nГруппа B:',\n",
    "      groups_total.grp.value_counts()[0], '\\nВсего:   ',\n",
    "      groups_total.grp.value_counts()[1] + groups_total.grp.value_counts()[0])"
   ]
  },
  {
   "cell_type": "code",
   "execution_count": 26,
   "metadata": {},
   "outputs": [
    {
     "name": "stdout",
     "output_type": "stream",
     "text": [
      "Распредление checks по группам: \n",
      "Группа A: 434 \n",
      "Группа B: 107 \n",
      "Всего:    541\n"
     ]
    }
   ],
   "source": [
    "print('Распредление checks по группам: \\nГруппа A:', \n",
    "      groups_total.query('student_id in @checks.student_id').grp.value_counts()[0], '\\nГруппа B:',\n",
    "      groups_total.query('student_id in @checks.student_id').grp.value_counts()[1], '\\nВсего:   ', \n",
    "      groups_total.query('student_id in @checks.student_id').grp.value_counts()[0] + \n",
    "      groups_total.query('student_id in @checks.student_id').grp.value_counts()[1])"
   ]
  },
  {
   "cell_type": "code",
   "execution_count": 27,
   "metadata": {},
   "outputs": [
    {
     "name": "stdout",
     "output_type": "stream",
     "text": [
      "Распределение active_studs по группам: \n",
      "Группа A: 1538 \n",
      "Группа B: 6803 \n",
      "Всего:    8341\n"
     ]
    }
   ],
   "source": [
    "print('Распределение active_studs по группам: \\nГруппа A:', \n",
    "      groups_total.query('student_id in @active_studs.student_id').grp.value_counts()[1], '\\nГруппа B:',\n",
    "      groups_total.query('student_id in @active_studs.student_id').grp.value_counts()[0], '\\nВсего:   ',\n",
    "      groups_total.query('student_id in @active_studs.student_id').grp.value_counts()[1] + \n",
    "      groups_total.query('student_id in @active_studs.student_id').grp.value_counts()[0])"
   ]
  },
  {
   "cell_type": "markdown",
   "metadata": {},
   "source": [
    "Теперь рассмотрим пересечение групп `active_studs` и `checks`, чтобы понять насколько распределение активных пользователей совпадает с платящими. Сделаем это, сравнив как сочетаются два фактора между собой."
   ]
  },
  {
   "cell_type": "code",
   "execution_count": 28,
   "metadata": {},
   "outputs": [
    {
     "name": "stdout",
     "output_type": "stream",
     "text": [
      "Активные, но не оплатившие пользователи, количество по группам: \n",
      "Группа A: 1460 \n",
      "Группа B: 6489 \n",
      "Всего:    7949\n"
     ]
    }
   ],
   "source": [
    "active_not_paid = groups_total.query('student_id in @active_studs.student_id & student_id not in @checks.student_id')\n",
    "\n",
    "print('Активные, но не оплатившие пользователи, количество по группам: \\nГруппа A:', \n",
    "      active_not_paid.grp.value_counts()[1], '\\nГруппа B:',\n",
    "      active_not_paid.grp.value_counts()[0], '\\nВсего:   ',\n",
    "      active_not_paid.grp.value_counts()[1] +\n",
    "      active_not_paid.grp.value_counts()[0])"
   ]
  },
  {
   "cell_type": "markdown",
   "metadata": {},
   "source": [
    "Всего мы имеем 7949 активных пользователей, которые не производили оплат."
   ]
  },
  {
   "cell_type": "code",
   "execution_count": 29,
   "metadata": {},
   "outputs": [
    {
     "name": "stdout",
     "output_type": "stream",
     "text": [
      "Активные оплатившие пользователи, количество по группам: \n",
      "Группа A: 78 \n",
      "Группа B: 314 \n",
      "Всего:    392\n"
     ]
    }
   ],
   "source": [
    "active_paid_users = groups_total.query('student_id in @active_studs.student_id & student_id in @checks.student_id')\n",
    "\n",
    "print('Активные оплатившие пользователи, количество по группам: \\nГруппа A:', \n",
    "      active_paid_users.grp.value_counts()[1], '\\nГруппа B:',\n",
    "      active_paid_users.grp.value_counts()[0], '\\nВсего:   ',\n",
    "      active_paid_users.grp.value_counts()[1] +\n",
    "      active_paid_users.grp.value_counts()[0])"
   ]
  },
  {
   "cell_type": "markdown",
   "metadata": {},
   "source": [
    "Также на момент проведения эксперимента было 392 пользователя, которые были и активны, и произвели оплату."
   ]
  },
  {
   "cell_type": "code",
   "execution_count": 30,
   "metadata": {},
   "outputs": [
    {
     "name": "stdout",
     "output_type": "stream",
     "text": [
      "Количество пользователей из списка активных, но не вошедших в общий список: 0 \n",
      "Количество оплативших пользователей, отсутствующих в общем списке: 0 \n",
      "Количество оплативших пользователей, отсутствующих в списке активных в дни проведения теста: 149\n"
     ]
    }
   ],
   "source": [
    "paid_not_active = checks.query('student_id not in @active_studs.student_id')\n",
    "\n",
    "print('Количество пользователей из списка активных, но не вошедших в общий список:', \n",
    "      active_studs.query('student_id not in @groups_total.student_id').shape[0],\n",
    "      '\\nКоличество оплативших пользователей, отсутствующих в общем списке:',\n",
    "      checks.query('student_id not in @groups_total.student_id').shape[0],\n",
    "      '\\nКоличество оплативших пользователей, отсутствующих в списке активных в дни проведения теста:',\n",
    "      paid_not_active.shape[0])"
   ]
  },
  {
   "cell_type": "markdown",
   "metadata": {},
   "source": [
    "Помимо этого во время проведения эксперимента, были и студенты с оплатами, которые фактически не посещали платформу, таких 149."
   ]
  },
  {
   "cell_type": "code",
   "execution_count": 31,
   "metadata": {},
   "outputs": [
    {
     "name": "stdout",
     "output_type": "stream",
     "text": [
      "Оплатили, но не в списке активных, количество по группам:\n",
      "Группа A: 29 \n",
      "Группа B: 120 \n",
      "Всего:    149\n"
     ]
    }
   ],
   "source": [
    "print('Оплатили, но не в списке активных, количество по группам:\\nГруппа A:', \n",
    "      groups_total.query('student_id in @paid_not_active.student_id').grp.value_counts()[1], '\\nГруппа B:',\n",
    "      groups_total.query('student_id in @paid_not_active.student_id').grp.value_counts()[0], '\\nВсего:   ',\n",
    "      groups_total.query('student_id in @paid_not_active.student_id').grp.value_counts()[1] + \n",
    "      groups_total.query('student_id in @paid_not_active.student_id').grp.value_counts()[0])"
   ]
  },
  {
   "cell_type": "markdown",
   "metadata": {},
   "source": [
    "Из этих 149 пользователей 29 принадлежат контрольной группе, а 120 тестовой."
   ]
  },
  {
   "cell_type": "markdown",
   "metadata": {},
   "source": [
    "И, наконец, вот так выглядит распределение групп в общем датасете, где id не попадают ни в активных, ни в платящих пользователей."
   ]
  },
  {
   "cell_type": "code",
   "execution_count": 32,
   "metadata": {},
   "outputs": [
    {
     "data": {
      "text/plain": [
       "B    52960\n",
       "A    13126\n",
       "Name: grp, dtype: int64"
      ]
     },
     "execution_count": 32,
     "metadata": {},
     "output_type": "execute_result"
    }
   ],
   "source": [
    "groups_total.query('student_id not in @active_studs.student_id & student_id not in @checks.student_id').grp.value_counts()"
   ]
  },
  {
   "cell_type": "code",
   "execution_count": 33,
   "metadata": {},
   "outputs": [
    {
     "data": {
      "text/plain": [
       "27.54158964879852"
      ]
     },
     "execution_count": 33,
     "metadata": {},
     "output_type": "execute_result"
    }
   ],
   "source": [
    "# вычисляем долю неактивных, но оплативших, к общему числу оплативших пользователей\n",
    "\n",
    "(\n",
    "(groups_total.query('student_id in @paid_not_active.student_id').grp.value_counts()[1] + \n",
    "groups_total.query('student_id in @paid_not_active.student_id').grp.value_counts()[0]) \n",
    "    / \n",
    "(groups_total.query('student_id in @checks.student_id').grp.value_counts()[0] + \n",
    "groups_total.query('student_id in @checks.student_id').grp.value_counts()[1])\n",
    ") * 100"
   ]
  },
  {
   "cell_type": "markdown",
   "metadata": {},
   "source": [
    "Подвем небольшой итог, изобразив проанализированную информацию в виде диаграммы Эйлера-Венна:"
   ]
  },
  {
   "cell_type": "markdown",
   "metadata": {},
   "source": [
    "![](img/oval_diagram.png)"
   ]
  },
  {
   "cell_type": "markdown",
   "metadata": {},
   "source": [
    "**Вывод**\n",
    "\n",
    "Таким образом, у нас есть 3 паттерна поведения пользователей:\n",
    "\n",
    "- активные пользователи (те, что заходили на сайт в дни проведения теста), не совершавшие оплат,\n",
    "- пользователи, которые непосредственно совершили платежи (будучи активными),\n",
    "- пользователи, которые не заходили на платформу, но от них был получен платеж.\n",
    "\n",
    "То есть активные с оплатившими пользователи пересекаются только частично (пересечение `active_studs` и `cheсks` - 392 человека, 314 из контрольной группы и 78 из тестовой).\n",
    "\n",
    "Также в наших данных есть 149 пользователей (29 из контрольной и 120 из тестовой групп), которые не заходили на платформу, но, у которых выполнен заказ, что составляет около 27,5% от всего числа платящих пользователей. Можно предположить, что у данных пользователей оформлена подписка и списание произошло автоматически, либо пользователь был авторизован на платформе и факт входа на платформу не записался в данных, либо по технической причине информация по входу на платформу была утеряна или не формировалась должным образом.\n",
    "\n",
    "Пользователи распределены по группам неравномерно - группа B значительно больше, чем группа А во всех наблюдемых подгруппах."
   ]
  },
  {
   "cell_type": "markdown",
   "metadata": {},
   "source": [
    "Продолжим формирование общего датасета, дополнив датафрейм с группами пользователей информацией о покупках."
   ]
  },
  {
   "cell_type": "code",
   "execution_count": 34,
   "metadata": {},
   "outputs": [
    {
     "data": {
      "text/html": [
       "<div>\n",
       "<style scoped>\n",
       "    .dataframe tbody tr th:only-of-type {\n",
       "        vertical-align: middle;\n",
       "    }\n",
       "\n",
       "    .dataframe tbody tr th {\n",
       "        vertical-align: top;\n",
       "    }\n",
       "\n",
       "    .dataframe thead th {\n",
       "        text-align: right;\n",
       "    }\n",
       "</style>\n",
       "<table border=\"1\" class=\"dataframe\">\n",
       "  <thead>\n",
       "    <tr style=\"text-align: right;\">\n",
       "      <th></th>\n",
       "      <th>student_id</th>\n",
       "      <th>grp</th>\n",
       "      <th>rev</th>\n",
       "    </tr>\n",
       "  </thead>\n",
       "  <tbody>\n",
       "    <tr>\n",
       "      <th>0</th>\n",
       "      <td>1489</td>\n",
       "      <td>B</td>\n",
       "      <td>0.0</td>\n",
       "    </tr>\n",
       "    <tr>\n",
       "      <th>1</th>\n",
       "      <td>1627</td>\n",
       "      <td>A</td>\n",
       "      <td>990.0</td>\n",
       "    </tr>\n",
       "    <tr>\n",
       "      <th>2</th>\n",
       "      <td>1768</td>\n",
       "      <td>B</td>\n",
       "      <td>0.0</td>\n",
       "    </tr>\n",
       "    <tr>\n",
       "      <th>3</th>\n",
       "      <td>1783</td>\n",
       "      <td>B</td>\n",
       "      <td>0.0</td>\n",
       "    </tr>\n",
       "    <tr>\n",
       "      <th>4</th>\n",
       "      <td>1794</td>\n",
       "      <td>A</td>\n",
       "      <td>0.0</td>\n",
       "    </tr>\n",
       "    <tr>\n",
       "      <th>...</th>\n",
       "      <td>...</td>\n",
       "      <td>...</td>\n",
       "      <td>...</td>\n",
       "    </tr>\n",
       "    <tr>\n",
       "      <th>74571</th>\n",
       "      <td>200247820</td>\n",
       "      <td>B</td>\n",
       "      <td>0.0</td>\n",
       "    </tr>\n",
       "    <tr>\n",
       "      <th>74572</th>\n",
       "      <td>201032527</td>\n",
       "      <td>B</td>\n",
       "      <td>0.0</td>\n",
       "    </tr>\n",
       "    <tr>\n",
       "      <th>74573</th>\n",
       "      <td>201067612</td>\n",
       "      <td>B</td>\n",
       "      <td>0.0</td>\n",
       "    </tr>\n",
       "    <tr>\n",
       "      <th>74574</th>\n",
       "      <td>201067653</td>\n",
       "      <td>B</td>\n",
       "      <td>0.0</td>\n",
       "    </tr>\n",
       "    <tr>\n",
       "      <th>74575</th>\n",
       "      <td>201067659</td>\n",
       "      <td>B</td>\n",
       "      <td>0.0</td>\n",
       "    </tr>\n",
       "  </tbody>\n",
       "</table>\n",
       "<p>74576 rows × 3 columns</p>\n",
       "</div>"
      ],
      "text/plain": [
       "       student_id grp    rev\n",
       "0            1489   B    0.0\n",
       "1            1627   A  990.0\n",
       "2            1768   B    0.0\n",
       "3            1783   B    0.0\n",
       "4            1794   A    0.0\n",
       "...           ...  ..    ...\n",
       "74571   200247820   B    0.0\n",
       "74572   201032527   B    0.0\n",
       "74573   201067612   B    0.0\n",
       "74574   201067653   B    0.0\n",
       "74575   201067659   B    0.0\n",
       "\n",
       "[74576 rows x 3 columns]"
      ]
     },
     "execution_count": 34,
     "metadata": {},
     "output_type": "execute_result"
    }
   ],
   "source": [
    "groups_checks = groups_total.merge(checks, how='left', on='student_id')\n",
    "groups_checks['rev'] = groups_checks['rev'].replace(np.nan, 0)\n",
    "groups_checks"
   ]
  },
  {
   "cell_type": "markdown",
   "metadata": {},
   "source": [
    "Создадим вспомогательный столбец `active` со значением 'yes' , чтобы перед добавлением в основной датафрейм пользователей можно было поделить на активных и неактивных."
   ]
  },
  {
   "cell_type": "code",
   "execution_count": 35,
   "metadata": {},
   "outputs": [
    {
     "data": {
      "text/html": [
       "<div>\n",
       "<style scoped>\n",
       "    .dataframe tbody tr th:only-of-type {\n",
       "        vertical-align: middle;\n",
       "    }\n",
       "\n",
       "    .dataframe tbody tr th {\n",
       "        vertical-align: top;\n",
       "    }\n",
       "\n",
       "    .dataframe thead th {\n",
       "        text-align: right;\n",
       "    }\n",
       "</style>\n",
       "<table border=\"1\" class=\"dataframe\">\n",
       "  <thead>\n",
       "    <tr style=\"text-align: right;\">\n",
       "      <th></th>\n",
       "      <th>student_id</th>\n",
       "      <th>active</th>\n",
       "    </tr>\n",
       "  </thead>\n",
       "  <tbody>\n",
       "    <tr>\n",
       "      <th>0</th>\n",
       "      <td>581585</td>\n",
       "      <td>yes</td>\n",
       "    </tr>\n",
       "    <tr>\n",
       "      <th>1</th>\n",
       "      <td>5723133</td>\n",
       "      <td>yes</td>\n",
       "    </tr>\n",
       "    <tr>\n",
       "      <th>2</th>\n",
       "      <td>3276743</td>\n",
       "      <td>yes</td>\n",
       "    </tr>\n",
       "    <tr>\n",
       "      <th>3</th>\n",
       "      <td>4238589</td>\n",
       "      <td>yes</td>\n",
       "    </tr>\n",
       "    <tr>\n",
       "      <th>4</th>\n",
       "      <td>4475369</td>\n",
       "      <td>yes</td>\n",
       "    </tr>\n",
       "    <tr>\n",
       "      <th>...</th>\n",
       "      <td>...</td>\n",
       "      <td>...</td>\n",
       "    </tr>\n",
       "    <tr>\n",
       "      <th>8336</th>\n",
       "      <td>1794344</td>\n",
       "      <td>yes</td>\n",
       "    </tr>\n",
       "    <tr>\n",
       "      <th>8337</th>\n",
       "      <td>296883</td>\n",
       "      <td>yes</td>\n",
       "    </tr>\n",
       "    <tr>\n",
       "      <th>8338</th>\n",
       "      <td>3598448</td>\n",
       "      <td>yes</td>\n",
       "    </tr>\n",
       "    <tr>\n",
       "      <th>8339</th>\n",
       "      <td>3610547</td>\n",
       "      <td>yes</td>\n",
       "    </tr>\n",
       "    <tr>\n",
       "      <th>8340</th>\n",
       "      <td>205705</td>\n",
       "      <td>yes</td>\n",
       "    </tr>\n",
       "  </tbody>\n",
       "</table>\n",
       "<p>8341 rows × 2 columns</p>\n",
       "</div>"
      ],
      "text/plain": [
       "      student_id active\n",
       "0         581585    yes\n",
       "1        5723133    yes\n",
       "2        3276743    yes\n",
       "3        4238589    yes\n",
       "4        4475369    yes\n",
       "...          ...    ...\n",
       "8336     1794344    yes\n",
       "8337      296883    yes\n",
       "8338     3598448    yes\n",
       "8339     3610547    yes\n",
       "8340      205705    yes\n",
       "\n",
       "[8341 rows x 2 columns]"
      ]
     },
     "execution_count": 35,
     "metadata": {},
     "output_type": "execute_result"
    }
   ],
   "source": [
    "active_studs['active'] = 'yes'\n",
    "active_studs"
   ]
  },
  {
   "cell_type": "markdown",
   "metadata": {},
   "source": [
    "Сформируем полный датафрейм с данными о пользователях, тестовой группе, покупках и активности; в столбце `active` указываем значение 'no' у неактивных пользователей, а отсутствующие значения выручки заполняем нулями"
   ]
  },
  {
   "cell_type": "code",
   "execution_count": 36,
   "metadata": {},
   "outputs": [
    {
     "data": {
      "text/html": [
       "<div>\n",
       "<style scoped>\n",
       "    .dataframe tbody tr th:only-of-type {\n",
       "        vertical-align: middle;\n",
       "    }\n",
       "\n",
       "    .dataframe tbody tr th {\n",
       "        vertical-align: top;\n",
       "    }\n",
       "\n",
       "    .dataframe thead th {\n",
       "        text-align: right;\n",
       "    }\n",
       "</style>\n",
       "<table border=\"1\" class=\"dataframe\">\n",
       "  <thead>\n",
       "    <tr style=\"text-align: right;\">\n",
       "      <th></th>\n",
       "      <th>student_id</th>\n",
       "      <th>grp</th>\n",
       "      <th>rev</th>\n",
       "      <th>active</th>\n",
       "    </tr>\n",
       "  </thead>\n",
       "  <tbody>\n",
       "    <tr>\n",
       "      <th>0</th>\n",
       "      <td>1489</td>\n",
       "      <td>B</td>\n",
       "      <td>0.0</td>\n",
       "      <td>no</td>\n",
       "    </tr>\n",
       "    <tr>\n",
       "      <th>1</th>\n",
       "      <td>1627</td>\n",
       "      <td>A</td>\n",
       "      <td>990.0</td>\n",
       "      <td>yes</td>\n",
       "    </tr>\n",
       "    <tr>\n",
       "      <th>2</th>\n",
       "      <td>1768</td>\n",
       "      <td>B</td>\n",
       "      <td>0.0</td>\n",
       "      <td>no</td>\n",
       "    </tr>\n",
       "    <tr>\n",
       "      <th>3</th>\n",
       "      <td>1783</td>\n",
       "      <td>B</td>\n",
       "      <td>0.0</td>\n",
       "      <td>no</td>\n",
       "    </tr>\n",
       "    <tr>\n",
       "      <th>4</th>\n",
       "      <td>1794</td>\n",
       "      <td>A</td>\n",
       "      <td>0.0</td>\n",
       "      <td>no</td>\n",
       "    </tr>\n",
       "    <tr>\n",
       "      <th>...</th>\n",
       "      <td>...</td>\n",
       "      <td>...</td>\n",
       "      <td>...</td>\n",
       "      <td>...</td>\n",
       "    </tr>\n",
       "    <tr>\n",
       "      <th>74571</th>\n",
       "      <td>200247820</td>\n",
       "      <td>B</td>\n",
       "      <td>0.0</td>\n",
       "      <td>no</td>\n",
       "    </tr>\n",
       "    <tr>\n",
       "      <th>74572</th>\n",
       "      <td>201032527</td>\n",
       "      <td>B</td>\n",
       "      <td>0.0</td>\n",
       "      <td>no</td>\n",
       "    </tr>\n",
       "    <tr>\n",
       "      <th>74573</th>\n",
       "      <td>201067612</td>\n",
       "      <td>B</td>\n",
       "      <td>0.0</td>\n",
       "      <td>no</td>\n",
       "    </tr>\n",
       "    <tr>\n",
       "      <th>74574</th>\n",
       "      <td>201067653</td>\n",
       "      <td>B</td>\n",
       "      <td>0.0</td>\n",
       "      <td>no</td>\n",
       "    </tr>\n",
       "    <tr>\n",
       "      <th>74575</th>\n",
       "      <td>201067659</td>\n",
       "      <td>B</td>\n",
       "      <td>0.0</td>\n",
       "      <td>no</td>\n",
       "    </tr>\n",
       "  </tbody>\n",
       "</table>\n",
       "<p>74576 rows × 4 columns</p>\n",
       "</div>"
      ],
      "text/plain": [
       "       student_id grp    rev active\n",
       "0            1489   B    0.0     no\n",
       "1            1627   A  990.0    yes\n",
       "2            1768   B    0.0     no\n",
       "3            1783   B    0.0     no\n",
       "4            1794   A    0.0     no\n",
       "...           ...  ..    ...    ...\n",
       "74571   200247820   B    0.0     no\n",
       "74572   201032527   B    0.0     no\n",
       "74573   201067612   B    0.0     no\n",
       "74574   201067653   B    0.0     no\n",
       "74575   201067659   B    0.0     no\n",
       "\n",
       "[74576 rows x 4 columns]"
      ]
     },
     "execution_count": 36,
     "metadata": {},
     "output_type": "execute_result"
    }
   ],
   "source": [
    "users_all_info = groups_checks.merge(active_studs, how='left', on='student_id')\n",
    "users_all_info['active'] = users_all_info['active'].replace(np.nan, 'no')\n",
    "users_all_info"
   ]
  },
  {
   "cell_type": "markdown",
   "metadata": {},
   "source": [
    "Оценим активных и неактивных пользователей по размеру платежа."
   ]
  },
  {
   "cell_type": "code",
   "execution_count": 37,
   "metadata": {},
   "outputs": [
    {
     "data": {
      "text/plain": [
       "690.0000     61\n",
       "290.0000     24\n",
       "990.0000     19\n",
       "1140.0000    14\n",
       "199.0000     14\n",
       "580.0000      4\n",
       "1900.0000     4\n",
       "840.0000      3\n",
       "398.0000      2\n",
       "630.0000      1\n",
       "1980.0000     1\n",
       "1180.0000     1\n",
       "1900.0001     1\n",
       "Name: rev, dtype: int64"
      ]
     },
     "execution_count": 37,
     "metadata": {},
     "output_type": "execute_result"
    }
   ],
   "source": [
    "# оценим суммы покупок неактивных пользователей\n",
    "users_all_info.query('active == \"no\" & rev > 0').rev.value_counts()"
   ]
  },
  {
   "cell_type": "markdown",
   "metadata": {},
   "source": [
    "Суммы оплат сильно варьируются от 690 до 1900."
   ]
  },
  {
   "cell_type": "code",
   "execution_count": 38,
   "metadata": {},
   "outputs": [
    {
     "data": {
      "text/plain": [
       "0.0000       7949\n",
       "1900.0000      93\n",
       "290.0000       70\n",
       "1900.0001      35\n",
       "199.0000       32\n",
       "840.0000       24\n",
       "990.0000       22\n",
       "690.0000       17\n",
       "1140.0000      11\n",
       "580.0000       11\n",
       "590.0000       11\n",
       "1530.0000       8\n",
       "398.0000        7\n",
       "870.0000        6\n",
       "3660.0000       5\n",
       "2910.0000       4\n",
       "2890.0000       4\n",
       "489.0000        3\n",
       "1160.0000       3\n",
       "1980.0000       3\n",
       "2099.0000       3\n",
       "2820.0000       2\n",
       "2220.0000       2\n",
       "3260.0000       1\n",
       "597.0000        1\n",
       "1339.0000       1\n",
       "1180.0000       1\n",
       "1968.0000       1\n",
       "1050.0000       1\n",
       "1830.0000       1\n",
       "1388.0000       1\n",
       "2900.0000       1\n",
       "1729.0000       1\n",
       "2190.0000       1\n",
       "4650.0000       1\n",
       "796.0000        1\n",
       "3040.0000       1\n",
       "880.0000        1\n",
       "1039.0000       1\n",
       "Name: rev, dtype: int64"
      ]
     },
     "execution_count": 38,
     "metadata": {},
     "output_type": "execute_result"
    }
   ],
   "source": [
    "# теперь оценим суммы заказов активных пользователей\n",
    "users_all_info.query(\"active == 'yes'\").rev.value_counts()"
   ]
  },
  {
   "cell_type": "markdown",
   "metadata": {},
   "source": [
    "Здесь суммы оплат варьируются еще сильнее, есть даже 7949 значения с нулевым размером оплаты, притом что пользователь был активен во время проведения эксперимента.\n",
    "\n",
    "Такое распределение дает нам основания полагать, что причина не может быть исключительно в автоматическом списании оплаты за подписку."
   ]
  },
  {
   "cell_type": "code",
   "execution_count": 39,
   "metadata": {},
   "outputs": [
    {
     "data": {
      "text/html": [
       "<div>\n",
       "<style scoped>\n",
       "    .dataframe tbody tr th:only-of-type {\n",
       "        vertical-align: middle;\n",
       "    }\n",
       "\n",
       "    .dataframe tbody tr th {\n",
       "        vertical-align: top;\n",
       "    }\n",
       "\n",
       "    .dataframe thead th {\n",
       "        text-align: right;\n",
       "    }\n",
       "</style>\n",
       "<table border=\"1\" class=\"dataframe\">\n",
       "  <thead>\n",
       "    <tr style=\"text-align: right;\">\n",
       "      <th></th>\n",
       "      <th>student_id</th>\n",
       "      <th>grp</th>\n",
       "      <th>rev</th>\n",
       "      <th>active</th>\n",
       "    </tr>\n",
       "  </thead>\n",
       "  <tbody>\n",
       "    <tr>\n",
       "      <th>1</th>\n",
       "      <td>1627</td>\n",
       "      <td>A</td>\n",
       "      <td>990.0</td>\n",
       "      <td>yes</td>\n",
       "    </tr>\n",
       "    <tr>\n",
       "      <th>10</th>\n",
       "      <td>2085</td>\n",
       "      <td>B</td>\n",
       "      <td>0.0</td>\n",
       "      <td>yes</td>\n",
       "    </tr>\n",
       "    <tr>\n",
       "      <th>12</th>\n",
       "      <td>2215</td>\n",
       "      <td>B</td>\n",
       "      <td>0.0</td>\n",
       "      <td>yes</td>\n",
       "    </tr>\n",
       "    <tr>\n",
       "      <th>39</th>\n",
       "      <td>3185</td>\n",
       "      <td>B</td>\n",
       "      <td>690.0</td>\n",
       "      <td>no</td>\n",
       "    </tr>\n",
       "    <tr>\n",
       "      <th>43</th>\n",
       "      <td>3391</td>\n",
       "      <td>A</td>\n",
       "      <td>0.0</td>\n",
       "      <td>yes</td>\n",
       "    </tr>\n",
       "    <tr>\n",
       "      <th>...</th>\n",
       "      <td>...</td>\n",
       "      <td>...</td>\n",
       "      <td>...</td>\n",
       "      <td>...</td>\n",
       "    </tr>\n",
       "    <tr>\n",
       "      <th>74543</th>\n",
       "      <td>5760471</td>\n",
       "      <td>B</td>\n",
       "      <td>0.0</td>\n",
       "      <td>yes</td>\n",
       "    </tr>\n",
       "    <tr>\n",
       "      <th>74545</th>\n",
       "      <td>5777081</td>\n",
       "      <td>B</td>\n",
       "      <td>0.0</td>\n",
       "      <td>yes</td>\n",
       "    </tr>\n",
       "    <tr>\n",
       "      <th>74558</th>\n",
       "      <td>5870856</td>\n",
       "      <td>A</td>\n",
       "      <td>0.0</td>\n",
       "      <td>yes</td>\n",
       "    </tr>\n",
       "    <tr>\n",
       "      <th>74561</th>\n",
       "      <td>5945085</td>\n",
       "      <td>B</td>\n",
       "      <td>0.0</td>\n",
       "      <td>yes</td>\n",
       "    </tr>\n",
       "    <tr>\n",
       "      <th>74562</th>\n",
       "      <td>5951797</td>\n",
       "      <td>B</td>\n",
       "      <td>0.0</td>\n",
       "      <td>yes</td>\n",
       "    </tr>\n",
       "  </tbody>\n",
       "</table>\n",
       "<p>8490 rows × 4 columns</p>\n",
       "</div>"
      ],
      "text/plain": [
       "       student_id grp    rev active\n",
       "1            1627   A  990.0    yes\n",
       "10           2085   B    0.0    yes\n",
       "12           2215   B    0.0    yes\n",
       "39           3185   B  690.0     no\n",
       "43           3391   A    0.0    yes\n",
       "...           ...  ..    ...    ...\n",
       "74543     5760471   B    0.0    yes\n",
       "74545     5777081   B    0.0    yes\n",
       "74558     5870856   A    0.0    yes\n",
       "74561     5945085   B    0.0    yes\n",
       "74562     5951797   B    0.0    yes\n",
       "\n",
       "[8490 rows x 4 columns]"
      ]
     },
     "execution_count": 39,
     "metadata": {},
     "output_type": "execute_result"
    }
   ],
   "source": [
    "# выделим из общего датасета активных пользователей и тех, кто не попадает в раздел активных, но с оплатами\n",
    "full_active_users = users_all_info.query('(active == \"no\" & rev > 0) | (active == \"yes\")')\n",
    "full_active_users"
   ]
  },
  {
   "cell_type": "code",
   "execution_count": 40,
   "metadata": {},
   "outputs": [
    {
     "data": {
      "text/plain": [
       "student_id    8490\n",
       "grp              2\n",
       "rev             40\n",
       "active           2\n",
       "dtype: int64"
      ]
     },
     "execution_count": 40,
     "metadata": {},
     "output_type": "execute_result"
    }
   ],
   "source": [
    "# проверим, что все наши пользователи уникальны\n",
    "full_active_users.nunique()"
   ]
  },
  {
   "cell_type": "code",
   "execution_count": 41,
   "metadata": {},
   "outputs": [
    {
     "data": {
      "text/html": [
       "<div>\n",
       "<style scoped>\n",
       "    .dataframe tbody tr th:only-of-type {\n",
       "        vertical-align: middle;\n",
       "    }\n",
       "\n",
       "    .dataframe tbody tr th {\n",
       "        vertical-align: top;\n",
       "    }\n",
       "\n",
       "    .dataframe thead th {\n",
       "        text-align: right;\n",
       "    }\n",
       "</style>\n",
       "<table border=\"1\" class=\"dataframe\">\n",
       "  <thead>\n",
       "    <tr style=\"text-align: right;\">\n",
       "      <th></th>\n",
       "      <th>student_id</th>\n",
       "      <th>grp</th>\n",
       "      <th>rev</th>\n",
       "      <th>active</th>\n",
       "      <th>payment</th>\n",
       "    </tr>\n",
       "  </thead>\n",
       "  <tbody>\n",
       "    <tr>\n",
       "      <th>1</th>\n",
       "      <td>1627</td>\n",
       "      <td>A</td>\n",
       "      <td>990.0</td>\n",
       "      <td>yes</td>\n",
       "      <td>yes</td>\n",
       "    </tr>\n",
       "    <tr>\n",
       "      <th>10</th>\n",
       "      <td>2085</td>\n",
       "      <td>B</td>\n",
       "      <td>0.0</td>\n",
       "      <td>yes</td>\n",
       "      <td>no</td>\n",
       "    </tr>\n",
       "    <tr>\n",
       "      <th>12</th>\n",
       "      <td>2215</td>\n",
       "      <td>B</td>\n",
       "      <td>0.0</td>\n",
       "      <td>yes</td>\n",
       "      <td>no</td>\n",
       "    </tr>\n",
       "    <tr>\n",
       "      <th>39</th>\n",
       "      <td>3185</td>\n",
       "      <td>B</td>\n",
       "      <td>690.0</td>\n",
       "      <td>no</td>\n",
       "      <td>yes</td>\n",
       "    </tr>\n",
       "    <tr>\n",
       "      <th>43</th>\n",
       "      <td>3391</td>\n",
       "      <td>A</td>\n",
       "      <td>0.0</td>\n",
       "      <td>yes</td>\n",
       "      <td>no</td>\n",
       "    </tr>\n",
       "    <tr>\n",
       "      <th>...</th>\n",
       "      <td>...</td>\n",
       "      <td>...</td>\n",
       "      <td>...</td>\n",
       "      <td>...</td>\n",
       "      <td>...</td>\n",
       "    </tr>\n",
       "    <tr>\n",
       "      <th>74543</th>\n",
       "      <td>5760471</td>\n",
       "      <td>B</td>\n",
       "      <td>0.0</td>\n",
       "      <td>yes</td>\n",
       "      <td>no</td>\n",
       "    </tr>\n",
       "    <tr>\n",
       "      <th>74545</th>\n",
       "      <td>5777081</td>\n",
       "      <td>B</td>\n",
       "      <td>0.0</td>\n",
       "      <td>yes</td>\n",
       "      <td>no</td>\n",
       "    </tr>\n",
       "    <tr>\n",
       "      <th>74558</th>\n",
       "      <td>5870856</td>\n",
       "      <td>A</td>\n",
       "      <td>0.0</td>\n",
       "      <td>yes</td>\n",
       "      <td>no</td>\n",
       "    </tr>\n",
       "    <tr>\n",
       "      <th>74561</th>\n",
       "      <td>5945085</td>\n",
       "      <td>B</td>\n",
       "      <td>0.0</td>\n",
       "      <td>yes</td>\n",
       "      <td>no</td>\n",
       "    </tr>\n",
       "    <tr>\n",
       "      <th>74562</th>\n",
       "      <td>5951797</td>\n",
       "      <td>B</td>\n",
       "      <td>0.0</td>\n",
       "      <td>yes</td>\n",
       "      <td>no</td>\n",
       "    </tr>\n",
       "  </tbody>\n",
       "</table>\n",
       "<p>8490 rows × 5 columns</p>\n",
       "</div>"
      ],
      "text/plain": [
       "       student_id grp    rev active payment\n",
       "1            1627   A  990.0    yes     yes\n",
       "10           2085   B    0.0    yes      no\n",
       "12           2215   B    0.0    yes      no\n",
       "39           3185   B  690.0     no     yes\n",
       "43           3391   A    0.0    yes      no\n",
       "...           ...  ..    ...    ...     ...\n",
       "74543     5760471   B    0.0    yes      no\n",
       "74545     5777081   B    0.0    yes      no\n",
       "74558     5870856   A    0.0    yes      no\n",
       "74561     5945085   B    0.0    yes      no\n",
       "74562     5951797   B    0.0    yes      no\n",
       "\n",
       "[8490 rows x 5 columns]"
      ]
     },
     "execution_count": 41,
     "metadata": {},
     "output_type": "execute_result"
    }
   ],
   "source": [
    "# добавим колонку со статусом оплаты\n",
    "full_active_users['payment'] = full_active_users.rev.apply(lambda x: 'no' if x == 0.0 else 'yes')\n",
    "full_active_users"
   ]
  },
  {
   "cell_type": "markdown",
   "metadata": {},
   "source": [
    "Финальный датасет для проверки метрик готов, можно переходит к анализу того, как эсперимент повлиял на фактор оплаты."
   ]
  },
  {
   "cell_type": "markdown",
   "metadata": {},
   "source": [
    "### 2.2. Проверка существования отличий между группами по самому факту оплаты, либо её отсутствия."
   ]
  },
  {
   "cell_type": "markdown",
   "metadata": {},
   "source": [
    "Узнаем есть ли разница в конверсии (процент перехода в оплату услуги) между группами. \n",
    "\n",
    "Так как переменные принадлежности группе и факта оплаты категориальные (две группы \"А\" и \"В\", а также факт оплаты \"есть оплата\" и \"нет оплаты\"), то в этом случае нам поможет критерий Хи-квадрат. \n",
    "\n",
    "Сформируем таблицу сопряжённости и проведем её анализ."
   ]
  },
  {
   "cell_type": "code",
   "execution_count": 42,
   "metadata": {},
   "outputs": [
    {
     "data": {
      "text/html": [
       "<div>\n",
       "<style scoped>\n",
       "    .dataframe tbody tr th:only-of-type {\n",
       "        vertical-align: middle;\n",
       "    }\n",
       "\n",
       "    .dataframe tbody tr th {\n",
       "        vertical-align: top;\n",
       "    }\n",
       "\n",
       "    .dataframe thead th {\n",
       "        text-align: right;\n",
       "    }\n",
       "</style>\n",
       "<table border=\"1\" class=\"dataframe\">\n",
       "  <thead>\n",
       "    <tr style=\"text-align: right;\">\n",
       "      <th></th>\n",
       "      <th>grp</th>\n",
       "      <th>payment</th>\n",
       "      <th>count</th>\n",
       "    </tr>\n",
       "  </thead>\n",
       "  <tbody>\n",
       "    <tr>\n",
       "      <th>0</th>\n",
       "      <td>A</td>\n",
       "      <td>no</td>\n",
       "      <td>1460</td>\n",
       "    </tr>\n",
       "    <tr>\n",
       "      <th>1</th>\n",
       "      <td>A</td>\n",
       "      <td>yes</td>\n",
       "      <td>107</td>\n",
       "    </tr>\n",
       "    <tr>\n",
       "      <th>2</th>\n",
       "      <td>B</td>\n",
       "      <td>no</td>\n",
       "      <td>6489</td>\n",
       "    </tr>\n",
       "    <tr>\n",
       "      <th>3</th>\n",
       "      <td>B</td>\n",
       "      <td>yes</td>\n",
       "      <td>434</td>\n",
       "    </tr>\n",
       "  </tbody>\n",
       "</table>\n",
       "</div>"
      ],
      "text/plain": [
       "  grp payment  count\n",
       "0   A      no   1460\n",
       "1   A     yes    107\n",
       "2   B      no   6489\n",
       "3   B     yes    434"
      ]
     },
     "execution_count": 42,
     "metadata": {},
     "output_type": "execute_result"
    }
   ],
   "source": [
    "# группируем по принадлежности к тестируемой группе и наличию, либо отсутствию оплаты\n",
    "\n",
    "grp_payment_table = full_active_users.groupby(['grp', 'payment']).agg({'payment': 'count'}).rename(columns={'payment': 'count'}).reset_index()\n",
    "grp_payment_table"
   ]
  },
  {
   "cell_type": "code",
   "execution_count": 43,
   "metadata": {},
   "outputs": [
    {
     "data": {
      "text/html": [
       "<div>\n",
       "<style scoped>\n",
       "    .dataframe tbody tr th:only-of-type {\n",
       "        vertical-align: middle;\n",
       "    }\n",
       "\n",
       "    .dataframe tbody tr th {\n",
       "        vertical-align: top;\n",
       "    }\n",
       "\n",
       "    .dataframe thead th {\n",
       "        text-align: right;\n",
       "    }\n",
       "</style>\n",
       "<table border=\"1\" class=\"dataframe\">\n",
       "  <thead>\n",
       "    <tr style=\"text-align: right;\">\n",
       "      <th>payment</th>\n",
       "      <th>no</th>\n",
       "      <th>yes</th>\n",
       "    </tr>\n",
       "    <tr>\n",
       "      <th>grp</th>\n",
       "      <th></th>\n",
       "      <th></th>\n",
       "    </tr>\n",
       "  </thead>\n",
       "  <tbody>\n",
       "    <tr>\n",
       "      <th>A</th>\n",
       "      <td>1460</td>\n",
       "      <td>107</td>\n",
       "    </tr>\n",
       "    <tr>\n",
       "      <th>B</th>\n",
       "      <td>6489</td>\n",
       "      <td>434</td>\n",
       "    </tr>\n",
       "  </tbody>\n",
       "</table>\n",
       "</div>"
      ],
      "text/plain": [
       "payment    no  yes\n",
       "grp               \n",
       "A        1460  107\n",
       "B        6489  434"
      ]
     },
     "execution_count": 43,
     "metadata": {},
     "output_type": "execute_result"
    }
   ],
   "source": [
    "# итоговая таблица сопряжённости\n",
    "\n",
    "grp_payment_table = grp_payment_table.pivot(index='grp', columns='payment', values='count')\n",
    "grp_payment_table"
   ]
  },
  {
   "cell_type": "markdown",
   "metadata": {},
   "source": [
    "Проверим на сколько отличается метрика \"CR\" (коэффициент конверсии - в данном случае процент перехода в целевое действие - то есть в оплату) между двумя группами."
   ]
  },
  {
   "cell_type": "code",
   "execution_count": 44,
   "metadata": {},
   "outputs": [
    {
     "data": {
      "text/plain": [
       "grp\n",
       "A    6.83\n",
       "B    6.27\n",
       "dtype: float64"
      ]
     },
     "execution_count": 44,
     "metadata": {},
     "output_type": "execute_result"
    }
   ],
   "source": [
    "CR_to_payment = ((grp_payment_table.yes / (grp_payment_table.no + grp_payment_table.yes)) * 100).round(2)\n",
    "CR_to_payment"
   ]
  },
  {
   "cell_type": "markdown",
   "metadata": {},
   "source": [
    "Судя по разнице коэффициентов можно предварительно сказать, что мы фиксируем разницу в их значениях, однако, требуются статистические подтверждения, чтобы быть уверенным в отсутствии случайности этого результата.\n",
    "\n",
    "Проведем анализ таблицы сопряжённости с помощью критерия Хи-квадрат и выведем значение p-value."
   ]
  },
  {
   "cell_type": "code",
   "execution_count": 45,
   "metadata": {},
   "outputs": [
    {
     "name": "stdout",
     "output_type": "stream",
     "text": [
      "Хи-квадрат: 0.579666003588264\n",
      "p-value: 0.4464432666411111\n",
      "Количество степеней свободы: 1\n"
     ]
    }
   ],
   "source": [
    "# применяем критерий Хи-квадрат к полученной таблице\n",
    "stat, p, dof, expected = chi2_contingency(grp_payment_table)\n",
    "\n",
    "# и выводим результаты\n",
    "print(f\"Хи-квадрат: {stat}\\np-value: {p}\\nКоличество степеней свободы: {dof}\")"
   ]
  },
  {
   "cell_type": "markdown",
   "metadata": {},
   "source": [
    "В данном случае наши гипотезы звучат так:\n",
    "\n",
    "- `Н0` - экспериментальные группы не отличаются друг от друга;\n",
    "- `Н1` - экспериментальные группы статистически значимо отличаются."
   ]
  },
  {
   "cell_type": "code",
   "execution_count": 46,
   "metadata": {},
   "outputs": [
    {
     "name": "stdout",
     "output_type": "stream",
     "text": [
      "Нет оснований отклонить H0\n"
     ]
    }
   ],
   "source": [
    "# веротностный порог\n",
    "prob = 0.95\n",
    "\n",
    "# справочное (табличное) значение для сравнения\n",
    "critical = chi2.ppf(prob, dof)\n",
    "\n",
    "# если значение статистики больше табличного, то можно принять альтернативную гипотезу\n",
    "if abs(stat) >= critical:\n",
    "    print('Отклоняем H0')\n",
    "else:\n",
    "    print('Нет оснований отклонить H0')"
   ]
  },
  {
   "cell_type": "markdown",
   "metadata": {},
   "source": [
    "Статистический критерий Хи-квадрат не дает оснований отклонить нулевую гипотезу о том, что группы не отличаются друг от друга - это видно и по самому значению Хи-квадрат, и по полученному значению p-value, которое выше установленного порога - 0,05."
   ]
  },
  {
   "cell_type": "markdown",
   "metadata": {},
   "source": [
    "### 2.3. Влияние категориального фактора (экспериментальная группа) на количественную переменную - среднюю выручку с одного платящего пользователя."
   ]
  },
  {
   "cell_type": "markdown",
   "metadata": {},
   "source": [
    "Рассмотрим подробнее распределение размера выручки с пользователя для доказательства того, что экспериментальная группа влияет на размер эффекта."
   ]
  },
  {
   "cell_type": "code",
   "execution_count": 47,
   "metadata": {},
   "outputs": [
    {
     "data": {
      "text/html": [
       "<div>\n",
       "<style scoped>\n",
       "    .dataframe tbody tr th:only-of-type {\n",
       "        vertical-align: middle;\n",
       "    }\n",
       "\n",
       "    .dataframe tbody tr th {\n",
       "        vertical-align: top;\n",
       "    }\n",
       "\n",
       "    .dataframe thead th {\n",
       "        text-align: right;\n",
       "    }\n",
       "</style>\n",
       "<table border=\"1\" class=\"dataframe\">\n",
       "  <thead>\n",
       "    <tr style=\"text-align: right;\">\n",
       "      <th></th>\n",
       "      <th>a_group</th>\n",
       "      <th>b_group</th>\n",
       "    </tr>\n",
       "  </thead>\n",
       "  <tbody>\n",
       "    <tr>\n",
       "      <th>count</th>\n",
       "      <td>1567.000000</td>\n",
       "      <td>6923.000000</td>\n",
       "    </tr>\n",
       "    <tr>\n",
       "      <th>mean</th>\n",
       "      <td>58.772176</td>\n",
       "      <td>69.511773</td>\n",
       "    </tr>\n",
       "    <tr>\n",
       "      <th>std</th>\n",
       "      <td>303.678591</td>\n",
       "      <td>326.618480</td>\n",
       "    </tr>\n",
       "    <tr>\n",
       "      <th>min</th>\n",
       "      <td>0.000000</td>\n",
       "      <td>0.000000</td>\n",
       "    </tr>\n",
       "    <tr>\n",
       "      <th>25%</th>\n",
       "      <td>0.000000</td>\n",
       "      <td>0.000000</td>\n",
       "    </tr>\n",
       "    <tr>\n",
       "      <th>50%</th>\n",
       "      <td>0.000000</td>\n",
       "      <td>0.000000</td>\n",
       "    </tr>\n",
       "    <tr>\n",
       "      <th>75%</th>\n",
       "      <td>0.000000</td>\n",
       "      <td>0.000000</td>\n",
       "    </tr>\n",
       "    <tr>\n",
       "      <th>max</th>\n",
       "      <td>3660.000000</td>\n",
       "      <td>4650.000000</td>\n",
       "    </tr>\n",
       "  </tbody>\n",
       "</table>\n",
       "</div>"
      ],
      "text/plain": [
       "           a_group      b_group\n",
       "count  1567.000000  6923.000000\n",
       "mean     58.772176    69.511773\n",
       "std     303.678591   326.618480\n",
       "min       0.000000     0.000000\n",
       "25%       0.000000     0.000000\n",
       "50%       0.000000     0.000000\n",
       "75%       0.000000     0.000000\n",
       "max    3660.000000  4650.000000"
      ]
     },
     "execution_count": 47,
     "metadata": {},
     "output_type": "execute_result"
    }
   ],
   "source": [
    "# сравним описательную статистику по всем пользователям в двух группах\n",
    "\n",
    "a_active_stats = full_active_users.query('grp == \"A\"').rev.describe().to_frame().rename(columns={'rev': 'a_group'})\n",
    "b_active_stats = full_active_users.query('grp == \"B\"').rev.describe().to_frame().rename(columns={'rev': 'b_group'})\n",
    "pd.concat([a_active_stats, b_active_stats], axis=1)"
   ]
  },
  {
   "cell_type": "code",
   "execution_count": 48,
   "metadata": {},
   "outputs": [
    {
     "data": {
      "image/png": "[encoded data removed]",
      "text/plain": [
       "<Figure size 640x480 with 1 Axes>"
      ]
     },
     "metadata": {},
     "output_type": "display_data"
    }
   ],
   "source": [
    "# распределение заказов всех пользователей по группам\n",
    "\n",
    "sns.boxplot(data=full_active_users, y='rev', x='grp')\n",
    "sns.despine()"
   ]
  },
  {
   "cell_type": "code",
   "execution_count": 49,
   "metadata": {},
   "outputs": [
    {
     "data": {
      "text/html": [
       "<div>\n",
       "<style scoped>\n",
       "    .dataframe tbody tr th:only-of-type {\n",
       "        vertical-align: middle;\n",
       "    }\n",
       "\n",
       "    .dataframe tbody tr th {\n",
       "        vertical-align: top;\n",
       "    }\n",
       "\n",
       "    .dataframe thead th {\n",
       "        text-align: right;\n",
       "    }\n",
       "</style>\n",
       "<table border=\"1\" class=\"dataframe\">\n",
       "  <thead>\n",
       "    <tr style=\"text-align: right;\">\n",
       "      <th></th>\n",
       "      <th>a_group</th>\n",
       "      <th>b_group</th>\n",
       "    </tr>\n",
       "  </thead>\n",
       "  <tbody>\n",
       "    <tr>\n",
       "      <th>count</th>\n",
       "      <td>107.000000</td>\n",
       "      <td>434.000000</td>\n",
       "    </tr>\n",
       "    <tr>\n",
       "      <th>mean</th>\n",
       "      <td>860.710280</td>\n",
       "      <td>1108.824893</td>\n",
       "    </tr>\n",
       "    <tr>\n",
       "      <th>std</th>\n",
       "      <td>815.893445</td>\n",
       "      <td>741.834304</td>\n",
       "    </tr>\n",
       "    <tr>\n",
       "      <th>min</th>\n",
       "      <td>199.000000</td>\n",
       "      <td>199.000000</td>\n",
       "    </tr>\n",
       "    <tr>\n",
       "      <th>25%</th>\n",
       "      <td>290.000000</td>\n",
       "      <td>420.750000</td>\n",
       "    </tr>\n",
       "    <tr>\n",
       "      <th>50%</th>\n",
       "      <td>690.000000</td>\n",
       "      <td>935.000000</td>\n",
       "    </tr>\n",
       "    <tr>\n",
       "      <th>75%</th>\n",
       "      <td>990.000000</td>\n",
       "      <td>1900.000000</td>\n",
       "    </tr>\n",
       "    <tr>\n",
       "      <th>max</th>\n",
       "      <td>3660.000000</td>\n",
       "      <td>4650.000000</td>\n",
       "    </tr>\n",
       "  </tbody>\n",
       "</table>\n",
       "</div>"
      ],
      "text/plain": [
       "           a_group      b_group\n",
       "count   107.000000   434.000000\n",
       "mean    860.710280  1108.824893\n",
       "std     815.893445   741.834304\n",
       "min     199.000000   199.000000\n",
       "25%     290.000000   420.750000\n",
       "50%     690.000000   935.000000\n",
       "75%     990.000000  1900.000000\n",
       "max    3660.000000  4650.000000"
      ]
     },
     "execution_count": 49,
     "metadata": {},
     "output_type": "execute_result"
    }
   ],
   "source": [
    "# сравним описательную статистику по купившим пользователям в двух группах\n",
    "\n",
    "a_active_paid_stats = full_active_users.query('grp == \"A\" & rev > 0').rev.describe().to_frame().rename(columns={'rev': 'a_group'})\n",
    "b_active_paid_stats = full_active_users.query('grp == \"B\" & rev > 0').rev.describe().to_frame().rename(columns={'rev': 'b_group'})\n",
    "pd.concat([a_active_paid_stats, b_active_paid_stats], axis=1)"
   ]
  },
  {
   "cell_type": "code",
   "execution_count": 50,
   "metadata": {},
   "outputs": [
    {
     "data": {
      "image/png": "[encoded data removed]",
      "text/plain": [
       "<Figure size 640x480 with 1 Axes>"
      ]
     },
     "metadata": {},
     "output_type": "display_data"
    }
   ],
   "source": [
    "# распределение заказов оплативших пользователей по группам\n",
    "\n",
    "sns.boxplot(data=full_active_users.query('rev>0'), y='rev', x='grp')\n",
    "sns.despine()"
   ]
  },
  {
   "cell_type": "markdown",
   "metadata": {},
   "source": [
    "Используя группировку, сформируем полную статистику."
   ]
  },
  {
   "cell_type": "code",
   "execution_count": 51,
   "metadata": {},
   "outputs": [
    {
     "data": {
      "text/html": [
       "<div>\n",
       "<style scoped>\n",
       "    .dataframe tbody tr th:only-of-type {\n",
       "        vertical-align: middle;\n",
       "    }\n",
       "\n",
       "    .dataframe tbody tr th {\n",
       "        vertical-align: top;\n",
       "    }\n",
       "\n",
       "    .dataframe thead tr th {\n",
       "        text-align: left;\n",
       "    }\n",
       "\n",
       "    .dataframe thead tr:last-of-type th {\n",
       "        text-align: right;\n",
       "    }\n",
       "</style>\n",
       "<table border=\"1\" class=\"dataframe\">\n",
       "  <thead>\n",
       "    <tr>\n",
       "      <th></th>\n",
       "      <th colspan=\"7\" halign=\"left\">rev</th>\n",
       "    </tr>\n",
       "    <tr>\n",
       "      <th></th>\n",
       "      <th>count</th>\n",
       "      <th>sum</th>\n",
       "      <th>mean</th>\n",
       "      <th>median</th>\n",
       "      <th>std</th>\n",
       "      <th>min</th>\n",
       "      <th>max</th>\n",
       "    </tr>\n",
       "    <tr>\n",
       "      <th>grp</th>\n",
       "      <th></th>\n",
       "      <th></th>\n",
       "      <th></th>\n",
       "      <th></th>\n",
       "      <th></th>\n",
       "      <th></th>\n",
       "      <th></th>\n",
       "    </tr>\n",
       "  </thead>\n",
       "  <tbody>\n",
       "    <tr>\n",
       "      <th>A</th>\n",
       "      <td>107</td>\n",
       "      <td>92096.0</td>\n",
       "      <td>860.71</td>\n",
       "      <td>690.0</td>\n",
       "      <td>815.89</td>\n",
       "      <td>199.0</td>\n",
       "      <td>3660.0</td>\n",
       "    </tr>\n",
       "    <tr>\n",
       "      <th>B</th>\n",
       "      <td>434</td>\n",
       "      <td>481230.0</td>\n",
       "      <td>1108.82</td>\n",
       "      <td>935.0</td>\n",
       "      <td>741.83</td>\n",
       "      <td>199.0</td>\n",
       "      <td>4650.0</td>\n",
       "    </tr>\n",
       "  </tbody>\n",
       "</table>\n",
       "</div>"
      ],
      "text/plain": [
       "      rev                                                 \n",
       "    count       sum     mean median     std    min     max\n",
       "grp                                                       \n",
       "A     107   92096.0   860.71  690.0  815.89  199.0  3660.0\n",
       "B     434  481230.0  1108.82  935.0  741.83  199.0  4650.0"
      ]
     },
     "execution_count": 51,
     "metadata": {},
     "output_type": "execute_result"
    }
   ],
   "source": [
    "full_active_users_paid = full_active_users.query('rev > 0')\n",
    "\n",
    "full_active_users_paid.groupby('grp').agg({'rev': ('count', 'sum', 'mean', 'median', 'std', 'min', 'max')}).round(2)"
   ]
  },
  {
   "cell_type": "markdown",
   "metadata": {},
   "source": [
    "Наблюдаем различия между группами как по среднему, так и по медианному значению (с перевесом в сторону целевой группы \"В\")."
   ]
  },
  {
   "cell_type": "markdown",
   "metadata": {},
   "source": [
    "Выведем гистограммы распределения по каждой группе."
   ]
  },
  {
   "cell_type": "code",
   "execution_count": 52,
   "metadata": {},
   "outputs": [
    {
     "data": {
      "image/png": "[encoded data removed]",
      "text/plain": [
       "<Figure size 640x480 with 1 Axes>"
      ]
     },
     "metadata": {},
     "output_type": "display_data"
    }
   ],
   "source": [
    "# распределение контрольной группы \"А\"\n",
    "plt.hist(full_active_users_paid.query('grp == \"A\"').rev);"
   ]
  },
  {
   "cell_type": "code",
   "execution_count": 53,
   "metadata": {},
   "outputs": [
    {
     "data": {
      "image/png": "[encoded data removed]",
      "text/plain": [
       "<Figure size 640x480 with 1 Axes>"
      ]
     },
     "metadata": {},
     "output_type": "display_data"
    }
   ],
   "source": [
    "# распределение целевой группы \"В\"\n",
    "plt.hist(full_active_users_paid.query('grp == \"B\"').rev);"
   ]
  },
  {
   "cell_type": "markdown",
   "metadata": {},
   "source": [
    "Визуально эффект заметен, однако, нужно проверить его формально, с помощью статистических критериев.\n",
    "\n",
    "Воспользуемся статистическими методами проверки на равенство средних значений и равенство распределений между группами. Применим следующие методы: t-критерий Стьюдента, U-критерий Манна-Уитни и технику Бутстреп."
   ]
  },
  {
   "cell_type": "markdown",
   "metadata": {},
   "source": [
    "**Применение t-критерия Стьюдента (t-тест)**"
   ]
  },
  {
   "cell_type": "code",
   "execution_count": 54,
   "metadata": {},
   "outputs": [
    {
     "data": {
      "text/plain": [
       "Ttest_indResult(statistic=-3.036763731579731, pvalue=0.002507016757204469)"
      ]
     },
     "execution_count": 54,
     "metadata": {},
     "output_type": "execute_result"
    }
   ],
   "source": [
    "ttest_ind(full_active_users_paid.query('grp == \"A\"').rev,\n",
    "          full_active_users_paid.query('grp == \"B\"').rev)"
   ]
  },
  {
   "cell_type": "markdown",
   "metadata": {},
   "source": [
    "Полученное значение p-value ниже 0.05, что показывает на значимое различие средних значений у двух групп."
   ]
  },
  {
   "cell_type": "markdown",
   "metadata": {},
   "source": [
    "**Применение непараметрического U-критерия Манна-Уитни (U-тест)**"
   ]
  },
  {
   "cell_type": "code",
   "execution_count": 55,
   "metadata": {},
   "outputs": [
    {
     "data": {
      "text/plain": [
       "MannwhitneyuResult(statistic=17862.0, pvalue=0.00019316054996380152)"
      ]
     },
     "execution_count": 55,
     "metadata": {},
     "output_type": "execute_result"
    }
   ],
   "source": [
    "mannwhitneyu(full_active_users_paid.query('grp == \"A\"').rev,\n",
    "             full_active_users_paid.query('grp == \"B\"').rev)"
   ]
  },
  {
   "cell_type": "markdown",
   "metadata": {},
   "source": [
    "В данном случае значение p-value также оказалось ниже 0.05, что показывает на значимое различие распределений у групп."
   ]
  },
  {
   "cell_type": "markdown",
   "metadata": {},
   "source": [
    "**Техника Бутстреп**"
   ]
  },
  {
   "cell_type": "code",
   "execution_count": 56,
   "metadata": {},
   "outputs": [],
   "source": [
    "def get_bootstrap(\n",
    "            data_column_1,                       # числовые значения первой (контрольной) выборки\n",
    "            data_column_2,                       # числовые значения второй (тестовой) выборки\n",
    "            boot_it = 1000,                      # количество бутстрэп-подвыборок\n",
    "            statistic = np.mean,                 # интересующая нас статистика, в данном случае среднее\n",
    "            bootstrap_conf_level = 0.95          # уровень значимости\n",
    "            ):\n",
    "    '''функция принимает два массива данных, количество итераций алгоритма, оцениваемую метрику и доверительный порог\n",
    "    и возвращает гистограмму распределения, границы доверительного интервала и значение p-value'''\n",
    "    \n",
    "    boot_data = []\n",
    "    \n",
    "    for i in tqdm(range(boot_it)):                     # извлекаем подвыборки\n",
    "        samples_1 = data_column_1.sample(\n",
    "            len(data_column_1), \n",
    "            replace=True                               # параметр возвращения\n",
    "        ).values\n",
    "        \n",
    "        samples_2 = data_column_2.sample(\n",
    "            len(data_column_1), \n",
    "            replace=True\n",
    "        ).values\n",
    "        \n",
    "        boot_data.append(statistic(samples_1) - statistic(samples_2))  # применяем статистику для подвыборок и берем разницу\n",
    "        \n",
    "    pd_boot_data = pd.DataFrame(boot_data)\n",
    "      \n",
    "    # доверительный интервал       \n",
    "    left_quant = (1 - bootstrap_conf_level) / 2\n",
    "    right_quant = 1 - (1 - bootstrap_conf_level) / 2\n",
    "    quants = pd_boot_data.quantile([left_quant, right_quant])\n",
    "        \n",
    "    p_1 = norm.cdf(\n",
    "        x=0, \n",
    "        loc=np.mean(boot_data), \n",
    "        scale=np.std(boot_data)\n",
    "    )\n",
    "    p_2 = norm.cdf(\n",
    "        x=0, \n",
    "        loc=-np.mean(boot_data), \n",
    "        scale=np.std(boot_data)\n",
    "    )\n",
    "    p_value = min(p_1, p_2) * 2\n",
    "        \n",
    "    # визуализация\n",
    "    _, _, bars = plt.hist(pd_boot_data[0], bins=50)\n",
    "    for bar in bars:\n",
    "        if bar.get_x() <= quants.iloc[0][0] or bar.get_x() >= quants.iloc[1][0]:\n",
    "            bar.set_facecolor('red')\n",
    "        else: \n",
    "            bar.set_facecolor('grey')\n",
    "            bar.set_edgecolor('black')\n",
    "    \n",
    "    plt.style.use('ggplot')\n",
    "    plt.vlines(quants, ymin=0, ymax=50, linestyle='--')\n",
    "    plt.xlabel('boot_data')\n",
    "    plt.ylabel('frequency')\n",
    "    plt.title(\"Histogram of boot_data\")\n",
    "    plt.show()\n",
    "       \n",
    "    return {\"quants\": quants, \n",
    "            \"p_value\": p_value}"
   ]
  },
  {
   "cell_type": "code",
   "execution_count": 57,
   "metadata": {},
   "outputs": [
    {
     "data": {
      "application/vnd.jupyter.widget-view+json": {
       "model_id": "dfe7b067f4a64d509abac7e3b2624e8e",
       "version_major": 2,
       "version_minor": 0
      },
      "text/plain": [
       "  0%|          | 0/1000 [00:00<?, ?it/s]"
      ]
     },
     "metadata": {},
     "output_type": "display_data"
    },
    {
     "data": {
      "image/png": "[encoded data removed]",
      "text/plain": [
       "<Figure size 640x480 with 1 Axes>"
      ]
     },
     "metadata": {},
     "output_type": "display_data"
    },
    {
     "name": "stdout",
     "output_type": "stream",
     "text": [
      "p_value: 0.02138318232703233\n",
      "quants:                 0\n",
      "0.025 -462.692537\n",
      "0.975  -36.167997\n"
     ]
    }
   ],
   "source": [
    "# подаем соответствующие данные на функцию и выводим полученный результат\n",
    "bootstraped_data_mean = get_bootstrap(full_active_users_paid.query('grp == \"A\"').rev,\n",
    "                                      full_active_users_paid.query('grp == \"B\"').rev)\n",
    "\n",
    "print(\"p_value:\", bootstraped_data_mean[\"p_value\"])\n",
    "print(\"quants:\", bootstraped_data_mean[\"quants\"])"
   ]
  },
  {
   "cell_type": "markdown",
   "metadata": {},
   "source": [
    "Бутстреп анализ также показывает значимое различие средних значений у экспериментальных групп."
   ]
  },
  {
   "cell_type": "markdown",
   "metadata": {},
   "source": [
    "**Регрессионный анализ**"
   ]
  },
  {
   "cell_type": "markdown",
   "metadata": {},
   "source": [
    "Для полноты результатов проверим с помощью линейной регрессии влияние категориального фактора на метрику."
   ]
  },
  {
   "cell_type": "code",
   "execution_count": 58,
   "metadata": {},
   "outputs": [
    {
     "data": {
      "text/html": [
       "<div>\n",
       "<style scoped>\n",
       "    .dataframe tbody tr th:only-of-type {\n",
       "        vertical-align: middle;\n",
       "    }\n",
       "\n",
       "    .dataframe tbody tr th {\n",
       "        vertical-align: top;\n",
       "    }\n",
       "\n",
       "    .dataframe thead th {\n",
       "        text-align: right;\n",
       "    }\n",
       "</style>\n",
       "<table border=\"1\" class=\"dataframe\">\n",
       "  <thead>\n",
       "    <tr style=\"text-align: right;\">\n",
       "      <th></th>\n",
       "      <th>student_id</th>\n",
       "      <th>new_sistem_pay</th>\n",
       "      <th>rev</th>\n",
       "      <th>active</th>\n",
       "      <th>payment</th>\n",
       "    </tr>\n",
       "  </thead>\n",
       "  <tbody>\n",
       "    <tr>\n",
       "      <th>1</th>\n",
       "      <td>1627</td>\n",
       "      <td>0</td>\n",
       "      <td>990.0</td>\n",
       "      <td>yes</td>\n",
       "      <td>yes</td>\n",
       "    </tr>\n",
       "    <tr>\n",
       "      <th>39</th>\n",
       "      <td>3185</td>\n",
       "      <td>1</td>\n",
       "      <td>690.0</td>\n",
       "      <td>no</td>\n",
       "      <td>yes</td>\n",
       "    </tr>\n",
       "    <tr>\n",
       "      <th>121</th>\n",
       "      <td>25973</td>\n",
       "      <td>1</td>\n",
       "      <td>690.0</td>\n",
       "      <td>no</td>\n",
       "      <td>yes</td>\n",
       "    </tr>\n",
       "    <tr>\n",
       "      <th>125</th>\n",
       "      <td>26280</td>\n",
       "      <td>1</td>\n",
       "      <td>690.0</td>\n",
       "      <td>no</td>\n",
       "      <td>yes</td>\n",
       "    </tr>\n",
       "    <tr>\n",
       "      <th>220</th>\n",
       "      <td>100300</td>\n",
       "      <td>1</td>\n",
       "      <td>990.0</td>\n",
       "      <td>yes</td>\n",
       "      <td>yes</td>\n",
       "    </tr>\n",
       "  </tbody>\n",
       "</table>\n",
       "</div>"
      ],
      "text/plain": [
       "     student_id  new_sistem_pay    rev active payment\n",
       "1          1627               0  990.0    yes     yes\n",
       "39         3185               1  690.0     no     yes\n",
       "121       25973               1  690.0     no     yes\n",
       "125       26280               1  690.0     no     yes\n",
       "220      100300               1  990.0    yes     yes"
      ]
     },
     "execution_count": 58,
     "metadata": {},
     "output_type": "execute_result"
    }
   ],
   "source": [
    "# для возможности подсчета заменим значения контрольной и целевой групп на \"0\" (А) и \"1\" (В)\n",
    "\n",
    "encoded_full_active_users_paid = full_active_users_paid.replace({'grp': {'A': 0, 'B': 1}}) \\\n",
    "                                                       .rename(columns={'grp': 'new_sistem_pay'})\n",
    "encoded_full_active_users_paid.head()"
   ]
  },
  {
   "cell_type": "code",
   "execution_count": 59,
   "metadata": {},
   "outputs": [
    {
     "name": "stdout",
     "output_type": "stream",
     "text": [
      "                            OLS Regression Results                            \n",
      "==============================================================================\n",
      "Dep. Variable:                    rev   R-squared:                       0.017\n",
      "Model:                            OLS   Adj. R-squared:                  0.015\n",
      "Method:                 Least Squares   F-statistic:                     9.222\n",
      "Date:                Wed, 17 May 2023   Prob (F-statistic):            0.00251\n",
      "Time:                        12:09:32   Log-Likelihood:                -4353.1\n",
      "No. Observations:                 541   AIC:                             8710.\n",
      "Df Residuals:                     539   BIC:                             8719.\n",
      "Df Model:                           1                                         \n",
      "Covariance Type:            nonrobust                                         \n",
      "==================================================================================\n",
      "                     coef    std err          t      P>|t|      [0.025      0.975]\n",
      "----------------------------------------------------------------------------------\n",
      "new_sistem_pay   248.1146     81.704      3.037      0.003      87.618     408.611\n",
      "intercept_avg    860.7103     73.179     11.762      0.000     716.959    1004.462\n",
      "==============================================================================\n",
      "Omnibus:                       83.880   Durbin-Watson:                   1.801\n",
      "Prob(Omnibus):                  0.000   Jarque-Bera (JB):              126.906\n",
      "Skew:                           1.016   Prob(JB):                     2.77e-28\n",
      "Kurtosis:                       4.224   Cond. No.                         4.29\n",
      "==============================================================================\n",
      "\n",
      "Notes:\n",
      "[1] Standard Errors assume that the covariance matrix of the errors is correctly specified.\n"
     ]
    }
   ],
   "source": [
    "# в переменную \"Х\" задаем является ли группа целевой или контрольной\n",
    "# и значение \"intercept\" (собственно это среднее значение)\n",
    "X = encoded_full_active_users_paid[['new_sistem_pay']].assign(intercept_avg=1)\n",
    "\n",
    "# в переменную \"Y\" задаем суммы оплат пользователей\n",
    "Y = encoded_full_active_users_paid['rev']\n",
    "\n",
    "# запускаем регрессионный анализ\n",
    "estimator = OLS(Y, X).fit()\n",
    "\n",
    "# выводим результат (нас интересует центральный блок со строками \"new_sistem_pay\" и \"intercept_avg\")\n",
    "print(estimator.summary())"
   ]
  },
  {
   "cell_type": "markdown",
   "metadata": {},
   "source": [
    "Регрессионный анализ также показал на статистически значимое влияние новой системы оплаты, так как p-value при влиянии показателя \"new_sistem_pay\" оказался ниже порога 0.05. Таким образом, новая механика оплаты услуг на сайте показывает прирост среднего значения на 248."
   ]
  },
  {
   "cell_type": "markdown",
   "metadata": {},
   "source": [
    "## 3. Анализ влияния экспериментальной группы на ключевые метрики."
   ]
  },
  {
   "cell_type": "markdown",
   "metadata": {},
   "source": [
    "В качестве ключевых метрик будем рассматривать следующие показатели:\n",
    "\n",
    "- **CR** (конверсия онлайн платежей) - отношение количества оплативших клиентов к общему числу активных клиентов.  \n",
    "Может отражать юзабилити новой механики оплаты, например часть пользователей не оплачивает, так как сталкивается с трудностями при оплате. Следовательно, CR выше в том варианте, где пользователю проще произвести оплату.\n",
    "\n",
    "- **ARPAU** - отношение общей суммы на количество активных пользователей.  \n",
    "Важный показатель для бизнеса, при увеличении этого показателя бизнес получает больше денег.\n",
    "\n",
    "- **ARPPU** - отношение общей суммы на количество активных оплативших пользователей.  \n",
    "Эта метрика даже важнее ARPU, так как деньги нам приносят именно платящие пользователи, и нам нужно количественно оценить размер эффекта."
   ]
  },
  {
   "cell_type": "markdown",
   "metadata": {},
   "source": [
    "### 3.1. Рассчет метрик."
   ]
  },
  {
   "cell_type": "code",
   "execution_count": 60,
   "metadata": {},
   "outputs": [],
   "source": [
    "# для облегчения подсчета формул запишем некоторые части расчета в переменные\n",
    "\n",
    "a_group = full_active_users.query(\"grp == 'A'\")\n",
    "b_group = full_active_users.query(\"grp == 'B'\")\n",
    "a_active_users_paid = full_active_users.query(\"grp == 'A'\").query('rev > 0')\n",
    "b_active_users_paid = full_active_users.query(\"grp == 'B'\").query('rev > 0')\n",
    "a_active_users_count = full_active_users.query(\"grp == 'A'\").student_id.count()\n",
    "b_active_users_count = full_active_users.query(\"grp == 'B'\").student_id.count()"
   ]
  },
  {
   "cell_type": "code",
   "execution_count": 61,
   "metadata": {},
   "outputs": [],
   "source": [
    "# расчитываем метрики для контрольной и тестовых групп\n",
    "\n",
    "# revenue\n",
    "a_revenue = (a_active_users_paid.agg({'rev':sum})).rev\n",
    "b_revenue = (b_active_users_paid.agg({'rev':sum})).rev\n",
    "\n",
    "# CR\n",
    "a_CR = a_active_users_paid.student_id.count() / a_active_users_count\n",
    "b_CR = b_active_users_paid.student_id.count() / b_active_users_count\n",
    "\n",
    "# ARPAU\n",
    "a_ARPAU = a_revenue  / a_active_users_count\n",
    "b_ARPAU = b_revenue  / b_active_users_count\n",
    "\n",
    "# ARPPU\n",
    "a_ARPPU = a_revenue / a_active_users_paid.student_id.count()\n",
    "b_ARPPU = b_revenue / b_active_users_paid.student_id.count()"
   ]
  },
  {
   "cell_type": "code",
   "execution_count": 62,
   "metadata": {},
   "outputs": [
    {
     "data": {
      "text/html": [
       "<div>\n",
       "<style scoped>\n",
       "    .dataframe tbody tr th:only-of-type {\n",
       "        vertical-align: middle;\n",
       "    }\n",
       "\n",
       "    .dataframe tbody tr th {\n",
       "        vertical-align: top;\n",
       "    }\n",
       "\n",
       "    .dataframe thead th {\n",
       "        text-align: right;\n",
       "    }\n",
       "</style>\n",
       "<table border=\"1\" class=\"dataframe\">\n",
       "  <thead>\n",
       "    <tr style=\"text-align: right;\">\n",
       "      <th></th>\n",
       "      <th>grp</th>\n",
       "      <th>count</th>\n",
       "      <th>revenue</th>\n",
       "      <th>CR</th>\n",
       "      <th>ARPU</th>\n",
       "      <th>ARPPU</th>\n",
       "    </tr>\n",
       "  </thead>\n",
       "  <tbody>\n",
       "    <tr>\n",
       "      <th>0</th>\n",
       "      <td>A</td>\n",
       "      <td>1567</td>\n",
       "      <td>92096.0000</td>\n",
       "      <td>6.8283</td>\n",
       "      <td>58.7722</td>\n",
       "      <td>860.7103</td>\n",
       "    </tr>\n",
       "    <tr>\n",
       "      <th>1</th>\n",
       "      <td>B</td>\n",
       "      <td>6923</td>\n",
       "      <td>481230.0036</td>\n",
       "      <td>6.2690</td>\n",
       "      <td>69.5118</td>\n",
       "      <td>1108.8249</td>\n",
       "    </tr>\n",
       "  </tbody>\n",
       "</table>\n",
       "</div>"
      ],
      "text/plain": [
       "  grp  count      revenue      CR     ARPU      ARPPU\n",
       "0   A   1567   92096.0000  6.8283  58.7722   860.7103\n",
       "1   B   6923  481230.0036  6.2690  69.5118  1108.8249"
      ]
     },
     "execution_count": 62,
     "metadata": {},
     "output_type": "execute_result"
    }
   ],
   "source": [
    "# создадим результирующий датафрейм с метриками\n",
    "\n",
    "metrics = full_active_users.groupby('grp').student_id.count().reset_index().rename(columns={'student_id':'count'})\n",
    "\n",
    "metrics['revenue'] = [a_revenue, b_revenue]\n",
    "metrics['CR'] = [a_CR * 100, b_CR * 100]\n",
    "metrics['ARPU'] = [a_ARPAU, b_ARPAU]\n",
    "metrics['ARPPU'] = [a_ARPPU, b_ARPPU]\n",
    "\n",
    "metrics.round(4)"
   ]
  },
  {
   "cell_type": "code",
   "execution_count": 63,
   "metadata": {},
   "outputs": [
    {
     "name": "stdout",
     "output_type": "stream",
     "text": [
      "Конверсия у группы B на 8.2% % меньше, чем у группы А\n",
      "ARPAU группы В на 15.5% % больше, чем у группы А\n",
      "ARPPU группы В на 28.8% % больше, чем у группы А\n"
     ]
    }
   ],
   "source": [
    "print(f'Конверсия у группы B на {round((a_CR - b_CR) / a_CR, 3):.1%} % меньше, чем у группы А')\n",
    "print(f'ARPAU группы В на {round((b_ARPAU - a_ARPAU) / b_ARPAU, 3):.1%} % больше, чем у группы А')\n",
    "print(f'ARPPU группы В на {round((b_ARPPU - a_ARPPU) / a_ARPPU, 3):.1%} % больше, чем у группы А')"
   ]
  },
  {
   "cell_type": "markdown",
   "metadata": {},
   "source": [
    "**Вывод**\n",
    "\n",
    "Наблюдается отрицательный эффект `CR`, и положительные эффекты в `ARPAU` и `ARPPU`, то есть `Revenue`, `ARPAU` и `ARPPU` в тестовой группе по отношению к контрольной возросли, а `CR` в покупку в тестовой группе наоборот стал ниже.  Другими словами, конверсия падает, но доход на пользователя/покупателя растёт. Это может быть связано отсечением части пользователей платящих малые суммы с одновременным увеличением среднего чека.\n",
    "\n",
    "Для подтверждения или опровержения этой теории проведем А/В - тестирование и оценим стат.значимость."
   ]
  },
  {
   "cell_type": "markdown",
   "metadata": {},
   "source": [
    "### 3.2. Проверка статистической значимости изменения метрик."
   ]
  },
  {
   "cell_type": "markdown",
   "metadata": {},
   "source": [
    "Сравним наши выборки с помощью визуальной оценки графиков плотности распределения."
   ]
  },
  {
   "cell_type": "code",
   "execution_count": 64,
   "metadata": {},
   "outputs": [
    {
     "data": {
      "image/png": "[encoded data removed]",
      "text/plain": [
       "<Figure size 640x480 with 1 Axes>"
      ]
     },
     "metadata": {},
     "output_type": "display_data"
    }
   ],
   "source": [
    "# группа \"А\" активных пользователей\n",
    "sns.distplot(full_active_users.query('grp == \"A\"')['rev']);"
   ]
  },
  {
   "cell_type": "code",
   "execution_count": 65,
   "metadata": {},
   "outputs": [
    {
     "data": {
      "image/png": "[encoded data removed]",
      "text/plain": [
       "<Figure size 640x480 with 1 Axes>"
      ]
     },
     "metadata": {},
     "output_type": "display_data"
    }
   ],
   "source": [
    "# группа \"В\" активных пользователей\n",
    "sns.distplot(full_active_users.query('grp == \"B\"')['rev']);"
   ]
  },
  {
   "cell_type": "code",
   "execution_count": 66,
   "metadata": {},
   "outputs": [
    {
     "data": {
      "image/png": "[encoded data removed]",
      "text/plain": [
       "<Figure size 640x480 with 1 Axes>"
      ]
     },
     "metadata": {},
     "output_type": "display_data"
    }
   ],
   "source": [
    "# группа \"А\", выполнивших оплату, пользователей\n",
    "sns.distplot(full_active_users.query('grp == \"A\"').query('rev > 0')['rev']);"
   ]
  },
  {
   "cell_type": "code",
   "execution_count": 67,
   "metadata": {},
   "outputs": [
    {
     "data": {
      "image/png": "[encoded data removed]",
      "text/plain": [
       "<Figure size 640x480 with 1 Axes>"
      ]
     },
     "metadata": {},
     "output_type": "display_data"
    }
   ],
   "source": [
    "# группа \"В\", выполнивших оплату, пользователей\n",
    "sns.distplot(full_active_users.query('grp == \"B\"').query('rev > 0')['rev']);"
   ]
  },
  {
   "cell_type": "markdown",
   "metadata": {},
   "source": [
    "Распределение в обеих группах активных пользователей большей частью выборки концентрируется на отметке \"0\", далее в правой части графика визуализируется остальная часть выборки, составляющая менее 10% от общей выборки.\n",
    "\n",
    "Распределения, выполнивших заказ, пользователей в группе \"А\" ассиметричное, скошено вправо, распределение в группе \"В\" ассиметричное, можно сказать, что скошено вправо, бимодально.\n",
    "\n",
    "Все эти графики показывают нам ненормальное распределение, поэтому для проведения А/В - тестирования рекомендовано опираться на результаты непараметрических методов, например, Манна-Уитни."
   ]
  },
  {
   "cell_type": "markdown",
   "metadata": {},
   "source": [
    "Также размеры самих групп очень сильно отличаются, в таких случаях идеально подходит техника бутстрапирования выборки на подвыборки с повторением. Технику будем применять следующим образом:\n",
    "\n",
    "- Строим бутстрап распределения для групп А и B;\n",
    "- Вычисляем их разницу;\n",
    "- В получившемся рапределении разницы находим доверительный интервал;\n",
    "- Проверяем, попадает ли доверительный интервал в 0: если да, то нулевая гипотеза на данном уровне значимости принимается, если нет - отвергается. "
   ]
  },
  {
   "cell_type": "markdown",
   "metadata": {},
   "source": [
    "Определим функции для метрик."
   ]
  },
  {
   "cell_type": "code",
   "execution_count": 68,
   "metadata": {},
   "outputs": [],
   "source": [
    "def cr_func(x):\n",
    "    '''\n",
    "    CR\n",
    "    Для корректной работы функции в качестве аргумента y \n",
    "    необходимо передать серию со значениями 1 и 0, или True и False,\n",
    "    в соответствие с тем произошло ожидаемое событие или нет.\n",
    "    '''\n",
    "    return sum(x) / len(x)\n",
    "\n",
    "def arpau_func(y):\n",
    "    '''\n",
    "    ARPAU\n",
    "    Для корректной работы функции в качестве аргумента y \n",
    "    необходимо передать серию, где все NaN-значения заменнены на нули\n",
    "    '''\n",
    "    return np.mean(y)\n",
    "\n",
    "def arppu_func(y):\n",
    "    '''\n",
    "    ARPPU\n",
    "    Для корректной работы функции в качестве аргумента y \n",
    "    необходимо передать серию, где отобраны только платежи, т.е. отфильтрованы нули\n",
    "    или вместо нулей стоят NaN.\n",
    "    '''\n",
    "    return np.mean(y)"
   ]
  },
  {
   "cell_type": "markdown",
   "metadata": {},
   "source": [
    "### CR"
   ]
  },
  {
   "cell_type": "markdown",
   "metadata": {},
   "source": [
    "Сформулируем нулевую и альтернативную гипотезы:\n",
    "- H0: CR в двух группах одинаковые.   \n",
    "- H1: CR в двух группах различаются."
   ]
  },
  {
   "cell_type": "code",
   "execution_count": 69,
   "metadata": {
    "scrolled": false
   },
   "outputs": [
    {
     "data": {
      "application/vnd.jupyter.widget-view+json": {
       "model_id": "3154de048dd64421b900173b34ed9a2e",
       "version_major": 2,
       "version_minor": 0
      },
      "text/plain": [
       "  0%|          | 0/1000 [00:00<?, ?it/s]"
      ]
     },
     "metadata": {},
     "output_type": "display_data"
    },
    {
     "data": {
      "image/png": "[encoded data removed]",
      "text/plain": [
       "<Figure size 640x480 with 1 Axes>"
      ]
     },
     "metadata": {},
     "output_type": "display_data"
    },
    {
     "data": {
      "text/plain": [
       "{'quants':               0\n",
       " 0.025 -0.012125\n",
       " 0.975  0.022352,\n",
       " 'p_value': 0.5299368597255216}"
      ]
     },
     "execution_count": 69,
     "metadata": {},
     "output_type": "execute_result"
    }
   ],
   "source": [
    "# присвоим категории пользователям\n",
    "a_group['pay_label'] = a_group['payment'].apply((lambda x: 1 if x == 'yes' else 0))\n",
    "b_group['pay_label'] = b_group['payment'].apply((lambda x: 1 if x == 'yes' else 0))\n",
    "\n",
    "get_bootstrap(a_group['pay_label'], b_group['pay_label'], statistic = cr_func)"
   ]
  },
  {
   "cell_type": "markdown",
   "metadata": {},
   "source": [
    "Доверительный интервал попадает в 0 и значение p-value больше 0.05, следовательно, у нас нет достаточно оснований отвергнуть нулевую гипотезу. **Нет оснований утверждать, что различия CR в двух группах существуют.**"
   ]
  },
  {
   "cell_type": "markdown",
   "metadata": {},
   "source": [
    "### ARPAU"
   ]
  },
  {
   "cell_type": "markdown",
   "metadata": {},
   "source": [
    "Сформулируем нулевую и альтернативную гипотезы:\n",
    "- H0: ARPAU в двух группах одинаковые.   \n",
    "- H1: ARPAU в двух группах различаются."
   ]
  },
  {
   "cell_type": "markdown",
   "metadata": {},
   "source": [
    "**Тест Манна-Уитни**"
   ]
  },
  {
   "cell_type": "code",
   "execution_count": 70,
   "metadata": {},
   "outputs": [
    {
     "data": {
      "text/plain": [
       "MannwhitneyuResult(statistic=5449155.0, pvalue=0.5005924615057726)"
      ]
     },
     "execution_count": 70,
     "metadata": {},
     "output_type": "execute_result"
    }
   ],
   "source": [
    "mannwhitneyu(a_group.rev, b_group.rev, alternative = 'two-sided')"
   ]
  },
  {
   "cell_type": "markdown",
   "metadata": {},
   "source": [
    "**Бутстрап**"
   ]
  },
  {
   "cell_type": "code",
   "execution_count": 71,
   "metadata": {
    "scrolled": false
   },
   "outputs": [
    {
     "data": {
      "application/vnd.jupyter.widget-view+json": {
       "model_id": "4a7a870d5d4f4ba7bff0c759e67d1200",
       "version_major": 2,
       "version_minor": 0
      },
      "text/plain": [
       "  0%|          | 0/1000 [00:00<?, ?it/s]"
      ]
     },
     "metadata": {},
     "output_type": "display_data"
    },
    {
     "data": {
      "image/png": "[encoded data removed]",
      "text/plain": [
       "<Figure size 640x480 with 1 Axes>"
      ]
     },
     "metadata": {},
     "output_type": "display_data"
    },
    {
     "data": {
      "text/plain": [
       "{'quants':                0\n",
       " 0.025 -32.005888\n",
       " 0.975  10.408519,\n",
       " 'p_value': 0.3119099536557618}"
      ]
     },
     "execution_count": 71,
     "metadata": {},
     "output_type": "execute_result"
    }
   ],
   "source": [
    "get_bootstrap(a_group.rev, b_group.rev, statistic = arpau_func)"
   ]
  },
  {
   "cell_type": "markdown",
   "metadata": {},
   "source": [
    "**Вывод**\n",
    "\n",
    "По результату теста Манна-Уитни получен достаточно высокий p-value=0.5005 - это говорит о том, что зона перекрещивающихся значений между ранжированными значениями рядов экспериментальных групп достаточно велика и мы не можем отклонить нулевую гипотезу.\n",
    "\n",
    "Техника бутстрап также демонстрирует значение `p-value` > 0,05 и доверительный интервал включает в себя 0, следовательно, оснований отклонить нулевую гипотезу у нас нет.\n",
    "\n",
    "**Статистически значимой разницы между значениями метрики ARPAU для контрольной и тестовой групп обнаружено не было**"
   ]
  },
  {
   "cell_type": "markdown",
   "metadata": {},
   "source": [
    "### ARPPU"
   ]
  },
  {
   "cell_type": "markdown",
   "metadata": {},
   "source": [
    "Сформулируем нулевую и альтернативную гипотезы:\n",
    "- H0: ARPPU в двух группах одинаковые.   \n",
    "- H1: ARPPU в двух группах различаются."
   ]
  },
  {
   "cell_type": "markdown",
   "metadata": {},
   "source": [
    "**Тест Манна-Уитни**"
   ]
  },
  {
   "cell_type": "code",
   "execution_count": 72,
   "metadata": {},
   "outputs": [
    {
     "data": {
      "text/plain": [
       "MannwhitneyuResult(statistic=17862.0, pvalue=0.00019316054996380152)"
      ]
     },
     "execution_count": 72,
     "metadata": {},
     "output_type": "execute_result"
    }
   ],
   "source": [
    "mannwhitneyu(a_group.query('rev > 0').rev, b_group.query('rev > 0').rev, alternative = 'two-sided')"
   ]
  },
  {
   "cell_type": "markdown",
   "metadata": {},
   "source": [
    "**Бутстрап**"
   ]
  },
  {
   "cell_type": "code",
   "execution_count": 73,
   "metadata": {
    "scrolled": false
   },
   "outputs": [
    {
     "data": {
      "application/vnd.jupyter.widget-view+json": {
       "model_id": "0300ae7b05fd47d8aa6cbbbe849ec8cb",
       "version_major": 2,
       "version_minor": 0
      },
      "text/plain": [
       "  0%|          | 0/1000 [00:00<?, ?it/s]"
      ]
     },
     "metadata": {},
     "output_type": "display_data"
    },
    {
     "data": {
      "image/png": "[encoded data removed]",
      "text/plain": [
       "<Figure size 640x480 with 1 Axes>"
      ]
     },
     "metadata": {},
     "output_type": "display_data"
    },
    {
     "data": {
      "text/plain": [
       "{'quants':                 0\n",
       " 0.025 -452.099077\n",
       " 0.975  -51.852109,\n",
       " 'p_value': 0.020751841188651386}"
      ]
     },
     "execution_count": 73,
     "metadata": {},
     "output_type": "execute_result"
    }
   ],
   "source": [
    "get_bootstrap(a_group.rev[a_group.rev > 0], b_group.rev[b_group.rev > 0], statistic = arppu_func)"
   ]
  },
  {
   "cell_type": "markdown",
   "metadata": {},
   "source": [
    "**Вывод**\n",
    "\n",
    "По результату теста Манна-Уитни, `p-value` всего 0.00019 , это говорит о том, что зона перекрещивающихся значений между ранжированными значениями рядов экспериментальных групп маленькая и мы можем отклонить нулевую гипотезу.\n",
    "\n",
    "По результатам бутстрап-теста мы также получили `p-value`< 0.05 и диапазон между 2.5 и 97.5 квантилем не содержит 0, это говорит нам о том, что мы можем отклонить нулевую гипотезу, а значит разница между выборками статистически значима.\n",
    "\n",
    "**Показатели ARPPU для двух групп статистически значимо различаются**"
   ]
  },
  {
   "cell_type": "markdown",
   "metadata": {},
   "source": [
    "## 4. Выводы по исследованию."
   ]
  },
  {
   "cell_type": "markdown",
   "metadata": {},
   "source": [
    "В ходе проведения анализа мы рассматривали такие важные для бизнеса метрики как:\n",
    "\n",
    "- **CR** (конверсия онлайн платежей) - отношение количества оплативших клиентов к общему числу активных клиентов.  \n",
    "- **ARPAU** - отношение общей суммы на количество активных пользователей.  \n",
    "- **ARPPU** - отношение общей суммы на количество активных оплативших пользователей.  \n",
    "\n",
    "Данные метрики были выбраны потому что они непосредственно отражают получаемую бизнесом прибыль и служат важными индикаторами интереса и лояльности покупателей к нашему продукту.\n",
    "\n",
    "В результате проведения тестов, мы пришли к следующим выводам по разнице метрик в контрольной и тестовой группах:\n",
    "\n",
    "- `CR` в покупку: \n",
    "\n",
    "по критерию Хи-квадрат p-value=0.44644, по технике бутстрап p-value=0.4848 и доверительный интервал включает 0, то есть метрика статистически значимо не меняет в результате проведения эксперимента;\n",
    "\n",
    "- `ARPAU`:\n",
    "\n",
    "по тесту Манна-Уитни pvalue=0.5005, по технике бутстрап p-value=0.3548 и доверительный интервал включает 0, то есть нет оснований утверждать, что новая функциональность влияет на метрику;\n",
    "\n",
    "- `ARPPU`:\n",
    "\n",
    "тест Манна-Уитни показал pvalue=0.00019, по технике бутстрап p-value=0.0212, 0 выходит за границы 2,5 % и 97,5% перцентиля, поэтому влияние эксперимента на значение `ARPPU` имеется и оно статистически значимо.\n",
    "\n",
    "То есть новая функциональность сработала только на `ARPPU` и привела к его увеличению на 40-461. Так как мы не знаем, какая именно механика была применена к пользователям, знаем только, что она имеет отношение непосредственно к оплате услуг, то ничего удивительного в том, что она повлияла только на платящих пользователей нет.\n",
    "\n",
    "Можно рассмотреть данный вопрос с точки зрения «воронки продаж».\n",
    "Пользователь попадает на сайт, что уже является одним из этапов конверсии и начинает \"путешествие\" по воронке осуществляя ряд целевых действий. Конечный этап заключается в оплате пользователем услуги. До момента перехода пользователя на этап оплаты, новая «фича» не оказывает на него воздействия. И мы это наблюдаем - новая механика оплаты услуг не влияет на конверсию перехода непосредственно к оплате (`CR` на данном этапе остался без изменений). Также, она не влияет и на пользователей, которые не платят (это мы видим через отсутствие статистически значимого отличия по метрике `ARPAU`). Но когда пользователь совершил целевое действие и перешел на следующий этап (хочет оплатить услугу), то новая «фича» начинает работать. Причем в данном случае положительно, так как метрика `ARPPU` увеличилась.\n",
    "\n",
    "Подытоживая можно сделать вывод, что так как новая механика оплаты даёт статистически значимый прирост по метрике `ARPPU` (а именно из оплат платящих пользователей и складывается прибыли бизнеса), то мы можем выкатить новую фичу на всех пользователях.\n",
    "\n",
    "При этом важно продолжать следить за остальными метриками, особенно за коэффициентом конверсии в покупку, так как, возможно, она может проявить себя через определенный временной промежуток."
   ]
  },
  {
   "cell_type": "markdown",
   "metadata": {},
   "source": [
    "## 5. "
   ]
  },
  {
   "cell_type": "markdown",
   "metadata": {},
   "source": [
    "Наши образовательные курсы состоят из различных уроков, каждый из которых состоит из нескольких маленьких заданий, а каждое такое маленькое задание называется \"горошиной\".  \n",
    "\n",
    "Пусть очень усердным учеником мы называем того пользователя, который хотя бы раз за текущий месяц **правильно** решил 20 горошин за час.\n",
    "\n",
    "Для оценки показателей мы имеем 3 таблицы:\n",
    "\n",
    "- таблица **peas**:  \n",
    "\n",
    "\n",
    "|Название атрибута | Тип атрибута | Смысловое значение                      |\n",
    "|------------------|--------------|-----------------------------------------|\n",
    "| st_id            | int          | ID ученика                              |\n",
    "| timest           | timestamp    | Время решения карточки                  |\n",
    "| correct          | bool         | Правильно ли решена горошина?           |\n",
    "|subject           | text         | Дисциплина, в которой находится горошина|\n",
    "\n",
    "- таблица **studs**:\n",
    "\n",
    "|Название атрибута | Тип атрибута | Смысловое значение                      |\n",
    "|------------------|--------------|-----------------------------------------|\n",
    "| st_id            | int          | ID ученика                              |\n",
    "| test_grp         | text         | Метка ученика в данном эксперименте     |\n",
    "\n",
    "\n",
    "- таблица **checks**:  \n",
    "\n",
    "|Название атрибута | Тип атрибута | Смысловое значение                             |\n",
    "|------------------|--------------|------------------------------------------------|\n",
    "| st_id            | int          | ID ученика                                     |\n",
    "| sale_time        | timestamp    | Время покупки                                  |\n",
    "| money            | int          | Цена, по которой приобрели данный курс         |\n",
    "| subject          | text         | Дисциплина, на которую приобрели полный доступ |\n",
    "\n",
    "при этом \n",
    "\n",
    "- карточки = задания = горошины,   \n",
    "- студент = ученик,   \n",
    "- усердный - 20 горошин (карточек / заданий) в `месяц`,   \n",
    "- очень усердный - 20 горошин (карточек / заданий) в `час`.   "
   ]
  },
  {
   "cell_type": "markdown",
   "metadata": {},
   "source": [
    "Нашей задачей является написание **оптимального** запроса, который даст информацию о количестве очень усердных студентов за октябрь 2021 года, т.е. тех кто в течение октября 2021 года смог выполнить хотя бы один раз 20 горошин в течение  часа.   "
   ]
  },
  {
   "cell_type": "code",
   "execution_count": 74,
   "metadata": {},
   "outputs": [],
   "source": [
    "# задаем параметры подключения к базе\n",
    "\n",
    "connection = dict(database='default',\n",
    "                  host='https://clickhouse.lab.karpov.courses',\n",
    "                  user='student',\n",
    "                  password='dpo_python_2020')"
   ]
  },
  {
   "cell_type": "code",
   "execution_count": 75,
   "metadata": {},
   "outputs": [
    {
     "data": {
      "text/html": [
       "<div>\n",
       "<style scoped>\n",
       "    .dataframe tbody tr th:only-of-type {\n",
       "        vertical-align: middle;\n",
       "    }\n",
       "\n",
       "    .dataframe tbody tr th {\n",
       "        vertical-align: top;\n",
       "    }\n",
       "\n",
       "    .dataframe thead th {\n",
       "        text-align: right;\n",
       "    }\n",
       "</style>\n",
       "<table border=\"1\" class=\"dataframe\">\n",
       "  <thead>\n",
       "    <tr style=\"text-align: right;\">\n",
       "      <th></th>\n",
       "      <th>min_data</th>\n",
       "      <th>max_data</th>\n",
       "    </tr>\n",
       "  </thead>\n",
       "  <tbody>\n",
       "    <tr>\n",
       "      <th>0</th>\n",
       "      <td>2021-10-30</td>\n",
       "      <td>2021-10-31</td>\n",
       "    </tr>\n",
       "  </tbody>\n",
       "</table>\n",
       "</div>"
      ],
      "text/plain": [
       "    min_data   max_data\n",
       "0 2021-10-30 2021-10-31"
      ]
     },
     "execution_count": 75,
     "metadata": {},
     "output_type": "execute_result"
    }
   ],
   "source": [
    "# проверим период, за который у нас имеются данные\n",
    "\n",
    "query_min_max = '''\n",
    "\n",
    "SELECT\n",
    "    MIN(toStartOfDay(timest)) AS min_data,\n",
    "    MAX(toStartOfDay(timest)) AS max_data\n",
    "FROM peas\n",
    "\n",
    "'''\n",
    "min_max = ph.read_clickhouse(query_min_max, connection=connection)\n",
    "min_max"
   ]
  },
  {
   "cell_type": "markdown",
   "metadata": {},
   "source": [
    "То есть в базе собрана информация только за два последних дня 30 и 31 октября 2021 года, это следует из запроса с выводом минимальной и максимальной даты."
   ]
  },
  {
   "cell_type": "markdown",
   "metadata": {},
   "source": [
    "### 5.1. Выявление самых усердных учеников."
   ]
  },
  {
   "cell_type": "markdown",
   "metadata": {},
   "source": [
    "Так как самые усердные ученики являются самыми лояльными нашими клиентами, то для нашего бизнеса критически необходимо понимать их количество."
   ]
  },
  {
   "cell_type": "markdown",
   "metadata": {},
   "source": [
    "Cформируем запрос к базе данных и выведем информацию о количестве отобранных уникальных студентов через подзапрос по временному окну с группировкой по id студента и отбором только тех, у кого количество горошин в час >= 20.  "
   ]
  },
  {
   "cell_type": "code",
   "execution_count": 76,
   "metadata": {},
   "outputs": [
    {
     "name": "stdout",
     "output_type": "stream",
     "text": [
      "Количество очень усердных студентов за период: 136\n"
     ]
    }
   ],
   "source": [
    "hardworking_students = '''\n",
    "\n",
    "SELECT\n",
    "    COUNT(st_id) AS studs_count                    \n",
    "FROM (                                             \n",
    "    SELECT\n",
    "        st_id,\n",
    "        SUM(correct) as peas_per_hour              \n",
    "    FROM peas\n",
    "    WHERE toStartOfMonth(timest)                  \n",
    "        IN (SELECT \n",
    "                toStartOfMonth(MAX(timest))\n",
    "            FROM peas)\n",
    "    GROUP BY st_id                                \n",
    "    HAVING peas_per_hour >= 20)                   \n",
    "    \n",
    "'''\n",
    "hardworking_students_count = ph.read_clickhouse(hardworking_students, connection=connection)\n",
    "print(\"Количество очень усердных студентов за период:\", hardworking_students_count.iat[0, 0])"
   ]
  },
  {
   "cell_type": "markdown",
   "metadata": {},
   "source": [
    "**Вывод**  \n",
    "\n",
    "Количество усердных студентов за октябрь 2021 года равно 136."
   ]
  },
  {
   "cell_type": "markdown",
   "metadata": {},
   "source": [
    "### 5.2. Оптимизация воронки."
   ]
  },
  {
   "cell_type": "markdown",
   "metadata": {},
   "source": [
    "Образовательная платформа предлагает пройти студентам курсы по модели `trial`: студент может решить бесплатно лишь 30 горошин в день. Для неограниченного количества заданий в определенной дисциплине студенту необходимо приобрести полный доступ. Команда провела эксперимент, где был протестирован новый экран оплаты.\n",
    "\n",
    "Необходимо в одном запросе выгрузить следующую информацию о группах пользователей:\n",
    "\n",
    "- **ARPU** (Average Revenue Per User ) - отношение выручки к общему количеству пользователей.  \n",
    "- **ARPAU** (Average Revenue Per Active User) - отношение выручки к количеству активных пользователей.   \n",
    "- **CR в покупку** - отношение количества купивших пользователей к общему количеству пользователей.  \n",
    "- **СR активного пользователя в покупку** - отношение количества купивших активных пользователей к общему количеству активных пользователей.  \n",
    "- **CR пользователя из активности по математике (subject = ’math’) в покупку курса по математике** - отношение количества купивших активных в математике пользователей к общему количеству активных в математике пользователей.   \n",
    "\n",
    "Активным считается пользователь, за все время решивший больше 10 задач правильно в любых дисциплинах.\n",
    "Активным по математике считается пользователь, за все время решивший 2 или больше задач правильно по математике."
   ]
  },
  {
   "cell_type": "markdown",
   "metadata": {},
   "source": [
    "Для реализации единой таблицы метрик следует декомпозировать данную задачу и разбить запрос на функциональные группы. В рамках языка SQL это удобно реализовать с помощью CTE (табличных выражений).\n",
    "\n",
    "Создадим несколько таких таблиц:\n",
    "\n",
    "- `all_studets_by_group` с выводом тестовой группы и указанием общего количества студентов в каждой группе,\n",
    "- `active_studets_by_group` с выводом тестовой группы и указанием количества АКТИВНЫХ студентов в каждой группе: для их нахождения нужно сджойнить таблицы `peas` и `studs` и выбрать только те id студентов, у которых правильно решено больше 10 задач в любых дисциплинах,\n",
    "- `active_math_studets_by_group` с выводом тестовой группы и указанием количества АКТИВНЫХ ПО МАТЕМАТИКЕ студентов: для их нахождения нужно сджойнить таблицы `peas` и `studs` и выбрать только те id студентов, у которых правильно решено 2 и более задач именно по математике,\n",
    "- `all_revenue` указывает на тестовую группу и суммарную выручку от всех пользователей из нее,\n",
    "- `count_buy` содержит название группы и количество студентов с оплатами: для их нахождения нужно сджойнить таблицы `check` и `studs`,\n",
    "- `count_buy_math` содержит название группы и количество студентов с оплатами именно по курсам математики: для их нахождения нужно сджойнить таблицы `check` и `studs` и отобрать нужных студентов по условию.\n",
    "\n",
    "Для вычисления необходимых метрик осталось только сджойнить все имеющиеся таблицы и произвести математические рассчеты."
   ]
  },
  {
   "cell_type": "code",
   "execution_count": 77,
   "metadata": {},
   "outputs": [
    {
     "data": {
      "text/html": [
       "<div>\n",
       "<style scoped>\n",
       "    .dataframe tbody tr th:only-of-type {\n",
       "        vertical-align: middle;\n",
       "    }\n",
       "\n",
       "    .dataframe tbody tr th {\n",
       "        vertical-align: top;\n",
       "    }\n",
       "\n",
       "    .dataframe thead th {\n",
       "        text-align: right;\n",
       "    }\n",
       "</style>\n",
       "<table border=\"1\" class=\"dataframe\">\n",
       "  <thead>\n",
       "    <tr style=\"text-align: right;\">\n",
       "      <th></th>\n",
       "      <th>test_grp</th>\n",
       "      <th>ARPU</th>\n",
       "      <th>ARPPU</th>\n",
       "      <th>CR_buy</th>\n",
       "      <th>CR_active_buy</th>\n",
       "      <th>CR_active_buy_math</th>\n",
       "    </tr>\n",
       "  </thead>\n",
       "  <tbody>\n",
       "    <tr>\n",
       "      <th>0</th>\n",
       "      <td>control</td>\n",
       "      <td>4540.983607</td>\n",
       "      <td>10905.511811</td>\n",
       "      <td>0.059016</td>\n",
       "      <td>0.141732</td>\n",
       "      <td>0.163265</td>\n",
       "    </tr>\n",
       "    <tr>\n",
       "      <th>1</th>\n",
       "      <td>pilot</td>\n",
       "      <td>11508.474576</td>\n",
       "      <td>35364.583333</td>\n",
       "      <td>0.145763</td>\n",
       "      <td>0.447917</td>\n",
       "      <td>0.380952</td>\n",
       "    </tr>\n",
       "  </tbody>\n",
       "</table>\n",
       "</div>"
      ],
      "text/plain": [
       "  test_grp          ARPU         ARPPU    CR_buy  CR_active_buy  \\\n",
       "0  control   4540.983607  10905.511811  0.059016       0.141732   \n",
       "1    pilot  11508.474576  35364.583333  0.145763       0.447917   \n",
       "\n",
       "   CR_active_buy_math  \n",
       "0            0.163265  \n",
       "1            0.380952  "
      ]
     },
     "execution_count": 77,
     "metadata": {},
     "output_type": "execute_result"
    }
   ],
   "source": [
    "metrics = '''\n",
    "\n",
    "with all_studets_by_group as (select test_grp, count(st_id) all_students\n",
    "                              from default.studs\n",
    "                              group by test_grp),\n",
    "\n",
    "\n",
    "active_studets_by_group as (select test_grp, count(st_id) active_students \n",
    "                            from\n",
    "                                (select test_grp, st_id\n",
    "                                 from default.peas as A\n",
    "                                 left join default.studs as B\n",
    "                                 on A.st_id=B.st_id\n",
    "                                 where correct = 1\n",
    "                                 group by test_grp, st_id\n",
    "                                 having count(correct) > 10)\n",
    "                                 group by test_grp),\n",
    "\n",
    "active_math_studets_by_group as (select test_grp, count(st_id) active_math_students \n",
    "                                 from\n",
    "                                     (select test_grp, st_id\n",
    "                                      from default.peas as A\n",
    "                                      left join default.studs as B\n",
    "                                      on A.st_id=B.st_id\n",
    "                                      where correct = 1 and subject = 'Math'\n",
    "                                      group by test_grp, st_id\n",
    "                                      having count(correct) >= 2)\n",
    "                                      group by test_grp),\n",
    "\n",
    "all_revenue as (select test_grp, sum(money) revenue\n",
    "                from default.final_project_check as A\n",
    "                left join default.studs as B\n",
    "                on A.st_id=B.st_id\n",
    "                group by test_grp),\n",
    "\n",
    "count_buy as    (select test_grp, count(st_id) count_buy  \n",
    "                 from default.final_project_check as A\n",
    "                 left join default.studs as B\n",
    "                 on A.st_id=B.st_id\n",
    "                 group by test_grp),\n",
    "\n",
    "count_buy_math as  (select test_grp, count(st_id) count_buy_math\n",
    "                    from default.final_project_check as A\n",
    "                    left join default.studs as B\n",
    "                    on A.st_id=B.st_id\n",
    "                    where subject = 'Math'\n",
    "                    group by test_grp)\n",
    "\n",
    "select (A.test_grp) test_grp,\n",
    "       (D.revenue/A.all_students) ARPU,\n",
    "       (D.revenue/B.active_students) ARPPU,\n",
    "       (E.count_buy/A.all_students) CR_buy,\n",
    "       (E.count_buy/B.active_students) CR_active_buy,\n",
    "       (F.count_buy_math/C.active_math_students) CR_active_buy_math\n",
    "       \n",
    "from all_studets_by_group as A\n",
    "     left join active_studets_by_group as B on A.test_grp = B.test_grp\n",
    "     left join active_math_studets_by_group as C on A.test_grp = C.test_grp\n",
    "     left join all_revenue as D on A.test_grp = D.test_grp\n",
    "     left join count_buy as E on A.test_grp = E.test_grp\n",
    "     left join count_buy_math as F on A.test_grp = F.test_grp\n",
    "'''\n",
    "\n",
    "metrics_table = ph.read_clickhouse(metrics, connection=connection)\n",
    "metrics_table"
   ]
  },
  {
   "cell_type": "markdown",
   "metadata": {},
   "source": [
    "**Вывод**\n",
    "\n",
    "Исходя из результатов эксперимента по изменению экрана оплаты в тестовой группе мы получили прирост всех метрик:\n",
    "\n",
    "- `ARPU` увеличился в 2,5 раза,\n",
    "- `ARPPU` увеличился в 3,2 раза,\n",
    "- `CR` в покупку увеличился в 2,9 раза,\n",
    "- `СR` активного пользователя в покупку увеличился в 3,1 раз,\n",
    "- `CR` пользователя из активности по математике увеличился в 2,3 раза."
   ]
  },
  {
   "cell_type": "markdown",
   "metadata": {},
   "source": [
    "## 6. Реализация функциональности автоматической подгрузки информации  и пересчета метрик."
   ]
  },
  {
   "cell_type": "markdown",
   "metadata": {},
   "source": [
    "Функция будет автоматически подгружать информацию из дополнительного файла `groups_add.csv` (заголовки могут отличаться) и на основании дополнительных параметров пересчитывать метрики."
   ]
  },
  {
   "cell_type": "code",
   "execution_count": 78,
   "metadata": {},
   "outputs": [],
   "source": [
    "def get_add(groups, groups_add, active_studs, checks):\n",
    "    '''функция принимает 4 файла на вход (в том числе groups_add, из которого необходимо сделать подгрузку)\n",
    "    и последовательно проводит следующие действия\n",
    "    \n",
    "    - присваивает названия колонок \"groups_add\" в соответствии с \"groups\",\n",
    "    - далее объединяются \"groups\", \"groups_add\" и \"checks\", если есть пропущенные значения в суммах оплат, то проставляется \"0\", \n",
    "    - прежде чем добавить файл \"active_studs\" к датафрейму groups_checks, делается пометка \"yes\", что пользователи активны,\n",
    "    - добавляются \"active_studs\" к \"groups_checks\", у неактивных пользователей ставится пометка \"no\". \n",
    "    - из результирующего датафрейма \"groups_checks_full\" отбираются активные пользователей и неактивные, но у которых прошла оплата.\n",
    "    - эти группы пользователей соединяются в датафрейм full_active_users, который берется за основу в дальнейшем,\n",
    "    - далее выполняется расчет метрик \n",
    "    и они возвращаются функцией  виде таблицы\n",
    "    '''\n",
    "    \n",
    "    groups_add.columns = groups.columns\n",
    "    all_groups = pd.concat([groups, groups_add]).reset_index().drop(columns=['index']).rename(columns={'id': 'student_id'})\n",
    "    \n",
    "    groups_checks = all_groups.merge(checks, how='left', on='student_id')\n",
    "    \n",
    "    groups_checks['rev'] = groups_checks['rev'].replace(np.nan, 0)\n",
    "    \n",
    "    active_studs['active']='yes'\n",
    "    groups_checks_full=groups_checks.merge(active_studs, how='left', on='student_id')\n",
    "    \n",
    "    groups_checks_full['active'] = groups_checks_full['active'].replace(np.nan, 'no')\n",
    "    \n",
    "    lost = groups_checks_full.query(\"active=='no'\").query('rev>0')\n",
    "    active = groups_checks_full.query(\"active=='yes'\")\n",
    "    full_active_users = pd.concat([active,lost]).reset_index().drop(columns=['index'])\n",
    "    \n",
    "    a_users_w_revenue = full_active_users.query(\"grp == 'A'\").query('rev > 0')\n",
    "    b_users_w_revenue = full_active_users.query(\"grp == 'B'\").query('rev > 0')\n",
    "    \n",
    "    a_users_count = full_active_users.query(\"grp == 'A'\").student_id.count()\n",
    "    b_users_count = full_active_users.query(\"grp == 'B'\").student_id.count()\n",
    "    \n",
    "    a_revenue = (a_users_w_revenue.agg({'rev':sum})).rev\n",
    "    b_revenue = (b_users_w_revenue.agg({'rev':sum})).rev\n",
    "    \n",
    "    a_ARPAU = a_revenue / a_users_count\n",
    "    b_ARPAU = b_revenue / b_users_count\n",
    "    a_ARPPU = a_revenue / a_users_w_revenue.student_id.count()\n",
    "    b_ARPPU = b_revenue / b_users_w_revenue.student_id.count()\n",
    "    \n",
    "    a_CR_buy = a_users_w_revenue.student_id.count() / a_users_count\n",
    "    b_CR_buy = b_users_w_revenue.student_id.count() / b_users_count\n",
    " \n",
    "    \n",
    "    metrics = full_active_users.groupby('grp').student_id.count().reset_index().rename(columns={'student_id':'count'})\n",
    "    \n",
    "    metrics['revenue'] = [a_revenue, b_revenue]\n",
    "    metrics['CR_buy'] = [a_CR_buy, b_CR_buy]\n",
    "    metrics['ARPAU'] = [a_ARPAU, b_ARPAU]\n",
    "    metrics['ARPPU'] = [a_ARPPU, b_ARPPU]\n",
    "    \n",
    "    return metrics.round(4)"
   ]
  },
  {
   "cell_type": "markdown",
   "metadata": {},
   "source": [
    "Пусть у нас имеется ссылка на дополнительный файл (на Яндекс.Диске, или локально)."
   ]
  },
  {
   "cell_type": "code",
   "execution_count": 79,
   "metadata": {},
   "outputs": [],
   "source": [
    "# ссылка на дополнительный файл\n",
    "\n",
    "# add_csv_link = 'https://disk.yandex.ru/d/3aARY-P9pfaksg'\n",
    "add_csv_link = 'data/groups_add.csv'"
   ]
  },
  {
   "cell_type": "markdown",
   "metadata": {},
   "source": [
    "Напишем несколько вспомогательных функций."
   ]
  },
  {
   "cell_type": "code",
   "execution_count": 80,
   "metadata": {},
   "outputs": [],
   "source": [
    "def get_sep(file_link):\n",
    "    '''функция определяет разделитель в csv-файле'''\n",
    "    with open(file_link, 'r') as file:\n",
    "        temp = file.readline()\n",
    "    pattern = re.compile(r'\\w*([,;])\\w*')\n",
    "    return pattern.findall(temp)[0]"
   ]
  },
  {
   "cell_type": "code",
   "execution_count": 81,
   "metadata": {},
   "outputs": [],
   "source": [
    "def columns_renamer(df):\n",
    "    '''функция переименовывает колонки в соответствие с типом данных'''\n",
    "    if str(df.iloc[0, 0]).isalpha():\n",
    "        df.columns = ['grp', 'id']\n",
    "    else:\n",
    "        df.columns = ['id', 'grp']"
   ]
  },
  {
   "cell_type": "code",
   "execution_count": 82,
   "metadata": {},
   "outputs": [],
   "source": [
    "def get_active(df, to_dropna_ls=['activity', 'grp'], to_fillna_ls=['payment', 'rev']):\n",
    "    '''функция для выделения активных пользователей и заполнения пропусков нулями\n",
    "    df - датафрейм\n",
    "    to_dropna_ls - указываем список колонок датафрейма, по которым удаляем строки с NaN\n",
    "    to_fillna_ls - указываем список колонок датафрейма, по которым NaN заполняем нулями \n",
    "    '''\n",
    "    df = (df\n",
    "         .copy()\n",
    "         .dropna(subset=to_dropna_ls)\n",
    "         )\n",
    "    for i in to_fillna_ls:\n",
    "        df[i] = df[i].fillna(0)\n",
    "    return df"
   ]
  },
  {
   "cell_type": "markdown",
   "metadata": {},
   "source": [
    "Далее напишем функцию, которая будет автоматически подгружать информацию из дополнительного файла `groups_add.csv` и пересчитывать метрики."
   ]
  },
  {
   "cell_type": "code",
   "execution_count": 83,
   "metadata": {},
   "outputs": [],
   "source": [
    "def get_update(groups, active_studs, checks, add_csv_link, final=False):\n",
    "    '''функция обновления данных и пересчёта метрик\n",
    "    \n",
    "    на вход подаются:\n",
    "    датафреймы groups.csv, active_studs.csv, checks.csv, которые затем преобразовываются в единый work_df\n",
    "    add_csv_link - ссылка на дополнительный файл groups_add.csv, \n",
    "                   возможно использование web-ссылки на Яндекс.Диск, или ссылки на файл в файловой системе\n",
    "    final        - если True, выведет только последнюю (финальную) строку таблицы\n",
    "    \n",
    "    на выходе поучаем датафрэйм со значениями метрик и p-value, \n",
    "    каждая строка - новый степ добавления данных (номер обновления показан в колонке step) \n",
    "    '''\n",
    "    \n",
    "    if add_csv_link.startswith('https://'):\n",
    "\n",
    "        # скачиваем дополнительный файл\n",
    "        final_url = base_url + urlencode(dict(public_key=add_csv_link))\n",
    "        response = requests.get(final_url)\n",
    "        download_url = response.json()['href']\n",
    "        group_add_df = pd.read_csv(download_url, sep=',')\n",
    "\n",
    "        # загружаем файл и сохраняем его\n",
    "        download_response = requests.get(download_url)\n",
    "        with open('data/group_add.csv', 'wb') as f:\n",
    "            f.write(download_response.content)\n",
    "\n",
    "        # открываем файл\n",
    "        group_add_df = pd.read_csv('data/group_add.csv', sep=get_sep('data/group_add.csv'))\n",
    "\n",
    "    else:\n",
    "\n",
    "        # открываем файл\n",
    "        group_add_df = pd.read_csv(add_csv_link, sep=get_sep(add_csv_link))\n",
    "\n",
    "    # переименуем колонки в соответствие с типом данных\n",
    "    columns_renamer(group_add_df)\n",
    "    \n",
    "    work_df = (groups.merge(active_studs.assign(activity=1).rename(columns={'student_id': 'id'}), on='id', how='outer')\n",
    "                     .merge(checks.assign(payment = 1).rename(columns={'student_id': 'id'}), on='id', how='outer')\n",
    "                     .assign(step=0)\n",
    "               )\n",
    "    \n",
    "    # объединяем основной дф с дополнительным\n",
    "    work_df = work_df.merge(group_add_df, on='id', how='outer')\n",
    "    work_df['grp_x'] = work_df.grp_x.fillna('')                 # заполняем пропуски пустым символом\n",
    "    work_df['grp_y'] = work_df.grp_y.fillna('')                 # заполняем пропуски пустым символом\n",
    "    work_df['grp'] = work_df.grp_x + work_df.grp_y              # объединяем колонки групп\n",
    "    work_df = work_df.drop(['grp_x', 'grp_y'], axis=1)          # удаляем колонки grp_x и grp_y\n",
    "    \n",
    "    # присваиваем значения step в добавленных строках\n",
    "    mask = work_df.id.isin(group_add_df.id)             # назначаем маску, согласно которой будем присваивать новый номер степа\n",
    "    work_df.loc[mask, 'step'] = work_df.step.max() + 1  # присваиваем номер степа\n",
    "    work_df['step'] = work_df.step.astype('int')        # переводим колонку степ в int\n",
    "\n",
    "    # оставим только активных\n",
    "    work_df = get_active(work_df)\n",
    "    \n",
    "    # пересчитаем метрики, каждый цикл - новое добавление файла groups_add\n",
    "    df_ab = pd.DataFrame()  # пустой дф для заполнения через цикл\n",
    "\n",
    "    for i in range(work_df.step.max() + 1):  # итеритуемся по максимальному значению колонки step +1\n",
    "        \n",
    "        # фильтруем датасет для рассчёта метрик\n",
    "        payment_a = work_df.query('step <= @i and grp ==\"A\"').payment               \n",
    "        payment_b = work_df.query('step <= @i and grp ==\"B\"').payment\n",
    "        rev_all_a = work_df.query('step <= @i and grp ==\"A\"').rev\n",
    "        rev_all_b = work_df.query('step <= @i and grp ==\"B\"').rev\n",
    "        rev_positive_a = work_df.query('step <= @i and rev > 0 and grp ==\"A\"').rev\n",
    "        rev_positive_b = work_df.query('step <= @i and rev > 0 and grp ==\"B\"').rev\n",
    "\n",
    "        #CR_a\n",
    "        cr_a = cr_func(payment_a)\n",
    "        #CR_b\n",
    "        cr_b = cr_func(payment_b)\n",
    "        #CR p-value\n",
    "        cr_p_value = get_bootstrap(payment_a, \n",
    "                                   payment_b,\n",
    "                                   statistic=cr_func,\n",
    "                                   \n",
    "                     )[\"p_value\"]\n",
    "        #ARPU_a\n",
    "        arpu_a = arpau_func(rev_all_a)\n",
    "        #ARPU_b\n",
    "        arpu_b = arpau_func(rev_all_b)\n",
    "        #ARPU p-value\n",
    "        arpu_p_value = get_bootstrap(rev_all_a, \n",
    "                                     rev_all_b,\n",
    "                                     statistic=arpau_func,\n",
    "                                     \n",
    "                     )[\"p_value\"]\n",
    "        #ARPPU_a\n",
    "        arppu_a = arppu_func(rev_positive_a)\n",
    "        #ARPPU_b\n",
    "        arppu_b = arppu_func(rev_positive_b)\n",
    "        #ARPPU p-value\n",
    "        arppu_p_value = get_bootstrap(rev_positive_a,\n",
    "                                      rev_positive_b,\n",
    "                                      statistic=arppu_func,\n",
    "                                      \n",
    "                     )[\"p_value\"]\n",
    "\n",
    "        # временный датафрэйм\n",
    "        temp_df = pd.DataFrame([[cr_a, cr_b, cr_p_value, \n",
    "                                 arpu_a, arpu_b, arpu_p_value, \n",
    "                                 arppu_a, arppu_b, arppu_p_value]], \n",
    "                                 columns = ['CR_A', 'CR_B', 'CR_p-value',\n",
    "                                           'ARPU_A', 'ARPU_B', 'ARPU_p-value', \n",
    "                                           'ARPPU_A', 'ARPPU_B', 'ARPPU_p-value'])\n",
    "        \n",
    "        # добавляем строку в итоговый дф\n",
    "        df_ab = pd.concat([df_ab, temp_df])      \n",
    "    \n",
    "    # сбрасываем индексы\n",
    "    df_ab.reset_index(drop=True, inplace=True)  \n",
    "    df_ab['step'] = df_ab.index\n",
    "    \n",
    "    if final == True:\n",
    "        return df_ab.tail(1)\n",
    "    \n",
    "    return df_ab"
   ]
  },
  {
   "cell_type": "markdown",
   "metadata": {},
   "source": [
    "Напишем функцию отрисовки графиков. "
   ]
  },
  {
   "cell_type": "code",
   "execution_count": 84,
   "metadata": {},
   "outputs": [],
   "source": [
    "def transform_df(df):\n",
    "    '''функция формирования датафрейма с разбиением на группы'''\n",
    "    \n",
    "    # формируем датафрэйм для отрисовки метрик\n",
    "    metrix_df = pd.DataFrame(columns=['step', 'group']) \n",
    "    # создаём пустой финальный дф для построения графиков метрик\n",
    "    for i in ['CR_', 'ARPU_', 'ARPPU_']:                                                # список части названий колонок для отбора\n",
    "        cols = df.filter(like = i).columns                                              # отбираем колонки содержащие названия метрик\n",
    "        temp_df = pd.DataFrame()                                                        # создаём пустой дф\n",
    "        for j in cols[:2]:                                                              # итерируемся по названиям колонок, кроме p-value\n",
    "            tmp_row = df[[j, 'step']].assign(group=j[-1:]).rename(columns={j: j[:-2]})  # формируем строку нового дф\n",
    "            temp_df = pd.concat([temp_df, tmp_row])                                     # добавляем строку в промежуточный дф\n",
    "        metrix_df = metrix_df.merge(temp_df, on=['step', 'group'], how='right')         # объединяем промежуточный дф с финальным\n",
    "    \n",
    "    return metrix_df"
   ]
  },
  {
   "cell_type": "code",
   "execution_count": 85,
   "metadata": {},
   "outputs": [],
   "source": [
    "def get_graphs(df):\n",
    "    '''функция построения графика на основе датасета, сформированного функцией get_update\n",
    "    выводит шесть графиков: \n",
    "    по оси х - номер обновления (колонка step в передаваемом датафрейме), \n",
    "    показывает какой раз обновились данные (некий аналог временной шкалы, т.к. не известны даты создания \n",
    "    дополнительных файлов)\n",
    "    по оси y - метрики (верхний ряд графиков) и p-value этих метрик (нижний ряд графиков)\n",
    "    '''\n",
    "    \n",
    "    metrix_df = transform_df(df)\n",
    "    \n",
    "    # формируем блок из 6 графиков\n",
    "    figure, axes = plt.subplots(2, 3, sharex=True, figsize=(16,7))   \n",
    "    \n",
    "    # заголовок\n",
    "    figure.suptitle('Метрики и p-value', fontsize=20)\n",
    "    \n",
    "    # графики CR и p-value для CR\n",
    "    sns.lineplot(ax=axes[0, 0], data=metrix_df, x='step', y='CR', hue='group', linewidth=2)\n",
    "    ax1 = sns.lineplot(ax=axes[1, 0], data=df, x='step', y='CR_p-value', linewidth=2, color=\"#5fa0c6\", label='p-value')\n",
    "    ax1.axhline(0.05, ls='--', linewidth=1.5, color=(1, 0, 0, 0.7), label='p-value = 0.05')\n",
    "    ax1.set_ylabel('P-value для CR')\n",
    "    ax1.set_xlabel('Номер обновления')\n",
    "    ax1.legend()\n",
    "    \n",
    "    # графики ARPU и p-value для ARPU\n",
    "    sns.lineplot(ax=axes[0, 1], data=metrix_df, x='step', y='ARPU', hue='group', linewidth=2)\n",
    "    ax2 = sns.lineplot(ax=axes[1, 1], data=df, x='step', y='ARPU_p-value', linewidth=2, color=\"#5fa0c6\", label='p-value')\n",
    "    ax2.axhline(0.05, ls='--', linewidth=1.5, color=(1, 0, 0, 0.7), label='p-value = 0.05')\n",
    "    ax2.set_ylabel('P-value для ARPU')\n",
    "    ax2.set_xlabel('Номер обновления')\n",
    "    ax2.legend()\n",
    "    \n",
    "    # графики ARPPU и p-value для ARPPU\n",
    "    sns.lineplot(ax=axes[0, 2], data=metrix_df, x='step', y='ARPPU', hue='group', linewidth=2)\n",
    "    ax3 = sns.lineplot(ax=axes[1, 2], data=df, x='step', y='ARPPU_p-value', linewidth=2, color=\"#5fa0c6\", label='p-value')\n",
    "    ax3.axhline(0.05, ls='--', linewidth=1.5, color=(1, 0, 0, 0.7), label='p-value = 0.05')\n",
    "    ax3.set_ylabel('P-value для ARPPU ')\n",
    "    ax3.set_xlabel('Номер обновления')\n",
    "    ax3.set_xticks(range(0, metrix_df.step.max() + 1))  # сделаем шаг по оси х = 1\n",
    "    ax3.legend()\n",
    "    \n",
    "    # устанавливаем лимиты на ось y\n",
    "    plt.gcf().get_axes()[0].set_ylim(0, metrix_df.CR.max() * 1.1)                  \n",
    "    plt.gcf().get_axes()[1].set_ylim(0, metrix_df.ARPU.max() * 1.1)\n",
    "    plt.gcf().get_axes()[2].set_ylim(0, metrix_df.ARPPU.max() * 1.1)\n",
    "    plt.gcf().get_axes()[3].set_ylim(-0.001, max(0.05, metrix['CR_p-value'].max()) * 1.1)\n",
    "    plt.gcf().get_axes()[4].set_ylim(-0.001, max(0.05, metrix['ARPU_p-value'].max()) * 1.1)\n",
    "    plt.gcf().get_axes()[5].set_ylim(-0.001, max(0.05, metrix['ARPPU_p-value'].max()) * 1.1)\n",
    "    \n",
    "    # добавляем расстояния между графиками\n",
    "    plt.subplots_adjust(top=0.92, hspace = 0.1, wspace=0.3)"
   ]
  },
  {
   "cell_type": "markdown",
   "metadata": {},
   "source": [
    "В функцию `get_update` передадим предварительно сформированный датафрэйм `total_test`, затем результат этой функции передадим в `get_graphs` для отрисовки графиков."
   ]
  },
  {
   "cell_type": "code",
   "execution_count": 86,
   "metadata": {
    "scrolled": false
   },
   "outputs": [
    {
     "data": {
      "application/vnd.jupyter.widget-view+json": {
       "model_id": "ac05d4e71c7c4e9cab23788a4c5b3f44",
       "version_major": 2,
       "version_minor": 0
      },
      "text/plain": [
       "  0%|          | 0/1000 [00:00<?, ?it/s]"
      ]
     },
     "metadata": {},
     "output_type": "display_data"
    },
    {
     "data": {
      "image/png": "[encoded data removed]",
      "text/plain": [
       "<Figure size 640x480 with 1 Axes>"
      ]
     },
     "metadata": {},
     "output_type": "display_data"
    },
    {
     "data": {
      "application/vnd.jupyter.widget-view+json": {
       "model_id": "96f343c2a89443dd94f4c387c965d1d4",
       "version_major": 2,
       "version_minor": 0
      },
      "text/plain": [
       "  0%|          | 0/1000 [00:00<?, ?it/s]"
      ]
     },
     "metadata": {},
     "output_type": "display_data"
    },
    {
     "data": {
      "image/png": "[encoded data removed]",
      "text/plain": [
       "<Figure size 640x480 with 1 Axes>"
      ]
     },
     "metadata": {},
     "output_type": "display_data"
    },
    {
     "data": {
      "application/vnd.jupyter.widget-view+json": {
       "model_id": "daeff7a2a6bd4251874dd69e22e6bd4f",
       "version_major": 2,
       "version_minor": 0
      },
      "text/plain": [
       "  0%|          | 0/1000 [00:00<?, ?it/s]"
      ]
     },
     "metadata": {},
     "output_type": "display_data"
    },
    {
     "data": {
      "image/png": "[encoded data removed]",
      "text/plain": [
       "<Figure size 640x480 with 1 Axes>"
      ]
     },
     "metadata": {},
     "output_type": "display_data"
    },
    {
     "data": {
      "application/vnd.jupyter.widget-view+json": {
       "model_id": "d0e64f13185c44189d490f9e0888d942",
       "version_major": 2,
       "version_minor": 0
      },
      "text/plain": [
       "  0%|          | 0/1000 [00:00<?, ?it/s]"
      ]
     },
     "metadata": {},
     "output_type": "display_data"
    },
    {
     "data": {
      "image/png": "[encoded data removed]",
      "text/plain": [
       "<Figure size 640x480 with 1 Axes>"
      ]
     },
     "metadata": {},
     "output_type": "display_data"
    },
    {
     "data": {
      "application/vnd.jupyter.widget-view+json": {
       "model_id": "191dd64cbb0c4512878a96844ceb8da5",
       "version_major": 2,
       "version_minor": 0
      },
      "text/plain": [
       "  0%|          | 0/1000 [00:00<?, ?it/s]"
      ]
     },
     "metadata": {},
     "output_type": "display_data"
    },
    {
     "data": {
      "image/png": "[encoded data removed]",
      "text/plain": [
       "<Figure size 640x480 with 1 Axes>"
      ]
     },
     "metadata": {},
     "output_type": "display_data"
    },
    {
     "data": {
      "application/vnd.jupyter.widget-view+json": {
       "model_id": "6637ea5693054f529d027a94c244ab7a",
       "version_major": 2,
       "version_minor": 0
      },
      "text/plain": [
       "  0%|          | 0/1000 [00:00<?, ?it/s]"
      ]
     },
     "metadata": {},
     "output_type": "display_data"
    },
    {
     "data": {
      "image/png": "[encoded data removed]",
      "text/plain": [
       "<Figure size 640x480 with 1 Axes>"
      ]
     },
     "metadata": {},
     "output_type": "display_data"
    },
    {
     "data": {
      "text/html": [
       "<div>\n",
       "<style scoped>\n",
       "    .dataframe tbody tr th:only-of-type {\n",
       "        vertical-align: middle;\n",
       "    }\n",
       "\n",
       "    .dataframe tbody tr th {\n",
       "        vertical-align: top;\n",
       "    }\n",
       "\n",
       "    .dataframe thead th {\n",
       "        text-align: right;\n",
       "    }\n",
       "</style>\n",
       "<table border=\"1\" class=\"dataframe\">\n",
       "  <thead>\n",
       "    <tr style=\"text-align: right;\">\n",
       "      <th></th>\n",
       "      <th>CR_A</th>\n",
       "      <th>CR_B</th>\n",
       "      <th>CR_p-value</th>\n",
       "      <th>ARPU_A</th>\n",
       "      <th>ARPU_B</th>\n",
       "      <th>ARPU_p-value</th>\n",
       "      <th>ARPPU_A</th>\n",
       "      <th>ARPPU_B</th>\n",
       "      <th>ARPPU_p-value</th>\n",
       "      <th>step</th>\n",
       "    </tr>\n",
       "  </thead>\n",
       "  <tbody>\n",
       "    <tr>\n",
       "      <th>0</th>\n",
       "      <td>0.050814</td>\n",
       "      <td>0.046077</td>\n",
       "      <td>0.524514</td>\n",
       "      <td>47.439739</td>\n",
       "      <td>57.864567</td>\n",
       "      <td>0.322014</td>\n",
       "      <td>933.589744</td>\n",
       "      <td>1255.827487</td>\n",
       "      <td>0.017319</td>\n",
       "      <td>0</td>\n",
       "    </tr>\n",
       "    <tr>\n",
       "      <th>1</th>\n",
       "      <td>0.050715</td>\n",
       "      <td>0.046156</td>\n",
       "      <td>0.524863</td>\n",
       "      <td>47.347204</td>\n",
       "      <td>58.058798</td>\n",
       "      <td>0.323567</td>\n",
       "      <td>933.589744</td>\n",
       "      <td>1257.878992</td>\n",
       "      <td>0.015478</td>\n",
       "      <td>1</td>\n",
       "    </tr>\n",
       "  </tbody>\n",
       "</table>\n",
       "</div>"
      ],
      "text/plain": [
       "       CR_A      CR_B  CR_p-value     ARPU_A     ARPU_B  ARPU_p-value  \\\n",
       "0  0.050814  0.046077    0.524514  47.439739  57.864567      0.322014   \n",
       "1  0.050715  0.046156    0.524863  47.347204  58.058798      0.323567   \n",
       "\n",
       "      ARPPU_A      ARPPU_B  ARPPU_p-value  step  \n",
       "0  933.589744  1255.827487       0.017319     0  \n",
       "1  933.589744  1257.878992       0.015478     1  "
      ]
     },
     "execution_count": 86,
     "metadata": {},
     "output_type": "execute_result"
    }
   ],
   "source": [
    "metrix = get_update(groups, active_studs, checks, add_csv_link)\n",
    "metrix"
   ]
  },
  {
   "cell_type": "code",
   "execution_count": 87,
   "metadata": {},
   "outputs": [],
   "source": [
    "def get_barplots(df):\n",
    "    '''функция get_plots визуализирует метрики по группам пользователей'''\n",
    "    \n",
    "    metrix_df = transform_df(df)\n",
    "    \n",
    "    # выделяем отдельные датафреймы для step 0 и step 1\n",
    "    metrix_df_step0 = metrix_df[metrix_df['step']==0]\n",
    "    metrix_df_step1 = metrix_df[metrix_df['step']==1]\n",
    "    \n",
    "    # формируем блок из 6 графиков\n",
    "    figure, axs = plt.subplots(2, 3, sharex=True, figsize=(20, 18))\n",
    "        \n",
    "    # график CR для step 0\n",
    "    sns.barplot(x='group', y='CR', data=metrix_df_step0, ax=axs[0, 0]).set_title('CR step 0')\n",
    "    # график ARPU для step 0\n",
    "    sns.barplot(x='group', y='ARPU', data= metrix_df_step0, ax=axs[0, 1]).set_title('ARPU step 0')\n",
    "    # график ARPPU для step 0\n",
    "    sns.barplot(x='group', y='ARPPU', data= metrix_df_step0, ax=axs[0, 2]).set_title('ARPPU step 0')\n",
    "    \n",
    "    # график CR для step 1\n",
    "    sns.barplot(x='group', y='CR', data= metrix_df_step1, ax=axs[1, 0]).set_title('CR step 1')\n",
    "    # график ARPU для step 1\n",
    "    sns.barplot(x='group', y='ARPU', data= metrix_df_step1, ax=axs[1, 1]).set_title('ARPU step 1')\n",
    "    # график ARPPU для step 1\n",
    "    sns.barplot(x='group', y='ARPPU', data= metrix_df_step1, ax=axs[1, 2]).set_title('ARPPU step 1')\n",
    "    \n",
    "    # выводим числовые подписи для каждого показателя\n",
    "    for x in [0, 1]:\n",
    "        for y in [0, 1, 2]:\n",
    "            # получаем значения для каждого бара\n",
    "            for rect in axs[x, y].patches:\n",
    "                axs[x, y].annotate(round(rect.get_height(), 2), xy=(rect.get_x() + rect.get_width() / 2, rect.get_height()),\n",
    "                                    xytext=(0, 3), textcoords='offset points', ha='center', va='bottom', fontsize=12)"
   ]
  },
  {
   "cell_type": "code",
   "execution_count": 88,
   "metadata": {
    "scrolled": false
   },
   "outputs": [
    {
     "data": {
      "image/png": "[encoded data removed]",
      "text/plain": [
       "<Figure size 1600x700 with 6 Axes>"
      ]
     },
     "metadata": {},
     "output_type": "display_data"
    }
   ],
   "source": [
    "get_graphs(metrix)"
   ]
  },
  {
   "cell_type": "code",
   "execution_count": 89,
   "metadata": {},
   "outputs": [
    {
     "data": {
      "image/png": "[encoded data removed]",
      "text/plain": [
       "<Figure size 2000x1800 with 6 Axes>"
      ]
     },
     "metadata": {},
     "output_type": "display_data"
    }
   ],
   "source": [
    "get_barplots(metrix)"
   ]
  },
  {
   "cell_type": "markdown",
   "metadata": {},
   "source": [
    "**Вывод**\n",
    "\n",
    "- Таким образом, используя функцию `get_update` мы можем в несколько кликов получить метрики с учетом новых данных.\n",
    "- Через функцию `get_graphs` отрисовать изменения метрик для контрольной и экспериментальной групп и значений p-value для разных этапов добавления данных.\n",
    "- А затем получить сравнительные барплоты через функцию `get_barplots` для визуального сравнения количественных показателей."
   ]
  }
 ],
 "metadata": {
  "kernelspec": {
   "display_name": "Python 3 (ipykernel)",
   "language": "python",
   "name": "python3"
  },
  "language_info": {
   "codemirror_mode": {
    "name": "ipython",
    "version": 3
   },
   "file_extension": ".py",
   "mimetype": "text/x-python",
   "name": "python",
   "nbconvert_exporter": "python",
   "pygments_lexer": "ipython3",
   "version": "3.10.10"
  }
 },
 "nbformat": 4,
 "nbformat_minor": 4
}
